{
 "cells": [
  {
   "cell_type": "code",
   "execution_count": null,
   "id": "44441f87-aa49-4ca6-8cc8-6af748adbd7c",
   "metadata": {},
   "outputs": [],
   "source": [
    "# 1. 아래페이지에서 순위가 1위부터 5위까지의 영화제목과 링크를 수집\n",
    "# https://movie.naver.com/movie/sdb/rank/rmovie.nhn?sel=cnt&date=20210520\n",
    "\n",
    "import requests\n",
    "import bs4\n",
    "\n",
    "url = \"https://movie.naver.com/movie/sdb/rank/rmovie.nhn\"\n",
    "response = requests.get(url)\n",
    "\n",
    "# xml일 경우 lxml-xml ,html일 경우 html.parser\n",
    "soup = bs4.BeautifulSoup(response.text,'html.parser')\n",
    "\n",
    "arr = []\n",
    "arr1 = []\n",
    "for tmp in soup.select('.list_ranking > tbody > tr > td > .tit3',limit = 5):\n",
    "    print('[url] ' + 'https://movie.naver.com' + tmp.select_one('a').attrs['href'],\"\\n\"\n",
    "          '[제목] ' + tmp.find('a').text)\n",
    "    print('-' * 65)\n",
    "    arr.append('https://movie.naver.com' + tmp.select_one('a').attrs['href'])\n",
    "    arr1.append({'url':'http://movie.naver.com/' + tmp.select_one('a').attrs['href'],\n",
    "               'title':tmp.find('a').text})\n",
    "print(arr1)\n",
    "print(arr)\n"
   ]
  },
  {
   "cell_type": "code",
   "execution_count": null,
   "id": "f7963d46-41bb-4dc6-94d0-599b52631adc",
   "metadata": {},
   "outputs": [],
   "source": [
    "# 2.수집된 링크를 이용하여 상세페이지 수집(영화제목, 관람등급, 관객평점, 장르, 상영시간, 개봉일, 감독, 출연배우)\n",
    "# 이 부분은 위에서 수집한 링크 주소 예시1) https://movie.naver.com/movie/bi/mi/basic.nhn?code=189150\n",
    "\n",
    "import requests\n",
    "import bs4\n",
    "\n",
    "\n",
    "arr2 = []\n",
    "for tmp in arr:\n",
    "    url = tmp\n",
    "    response = requests.get(url)\n",
    "    \n",
    "    soup = bs4.BeautifulSoup(response.text,'html.parser')\n",
    "    \n",
    "    \n",
    "    title = soup.select_one(\"#content > div.article > div.mv_info_area > div.mv_info > h3 > a:nth-child(1)\")\n",
    "    print(title.text)\n",
    "    age = soup.select_one('#content > div.article > div.mv_info_area > div.mv_info > dl > dd:nth-child(8) > p > a')\n",
    "    print('[관람등급] ' + age.text)\n",
    "    rate = soup.select_one('#actualPointPersentBasic > div > span > span')\n",
    "    print('[관객평점] ' + rate.text)\n",
    "    genre = soup.select_one('#content > div.article > div.mv_info_area > div.mv_info > dl > dd:nth-child(2) > p > span:nth-child(1) > a')\n",
    "    print('[장르] ' + genre.text)\n",
    "    time = soup.select_one('#content > div.article > div.mv_info_area > div.mv_info > dl > dd:nth-child(2) > p > span:nth-child(3)')\n",
    "    print('[상영시간] ' + time.text)\n",
    "    year = soup.select_one('#content > div.article > div.mv_info_area > div.mv_info > dl > dd:nth-child(2) > p > span:nth-child(4) > a:nth-child(1)')\n",
    "    day = soup.select_one('#content > div.article > div.mv_info_area > div.mv_info > dl > dd:nth-child(2) > p > span:nth-child(4) > a:nth-child(2)')\n",
    "    print('[개봉일] ' + year.text + day.text)\n",
    "    director = soup.select_one('#content > div.article > div.mv_info_area > div.mv_info > dl > dd:nth-child(4) > p > a')\n",
    "    print('[감독] ' + director.text)\n",
    "    actors = soup.select_one('#content > div.article > div.mv_info_area > div.mv_info > dl > dd:nth-child(6) > p')\n",
    "    print('[배우] ' + actors.text)\n",
    "    print('-' * 60)\n",
    "    arr2.append({'title':title.text,'age':age.text,'rate':rate.text,\n",
    "                'genre':genre.text,'time':time.text,'dday':year.text+\n",
    "                day.text,'director':director.text,'actors':actors.text})\n",
    "print(arr2)"
   ]
  },
  {
   "cell_type": "code",
   "execution_count": null,
   "id": "c424f30b-8a56-40ec-ad15-bc8bdb7c2aa1",
   "metadata": {},
   "outputs": [],
   "source": [
    "# 3.영화의 포스트 이미지 수집"
   ]
  },
  {
   "cell_type": "code",
   "execution_count": null,
   "id": "dfab60e6-8a93-4b11-99e5-2b14377b84da",
   "metadata": {},
   "outputs": [],
   "source": [
    "# 4.수집된 자료를 몽고DB에 저장\n",
    "# 컬렉션은 exam_movie (영화제목, 관람등급, 관객평점, 장르, 상영시간, 개봉일, 감독, 출연배우)\n",
    "import pymongo\n",
    "\n",
    "try:\n",
    "    username = \"id117\"\n",
    "    password = \"pw117\"\n",
    "    host = \"1.234.5.158\"\n",
    "    port = 37017\n",
    "    dbname = \"id117\"\n",
    "\n",
    "\n",
    "    # mongodb 접속\n",
    "    # conn = pymongo.MongoClient(f\"mongodb://{host}:{port}\") \n",
    "    conn= pymongo.MongoClient(f'mongodb://{username}:{password}@{host}:{port}/{dbname}')\n",
    "\n",
    "    db = conn.get_database(dbname) #db선택\n",
    "    collection = db.get_collection(\"exam_movie\") #collection == table과 비슷함\n",
    "\n",
    "    # dict type\n",
    "#     dic1 = {\"id\":\"pyid\", \"pw\":\"aaa\",\"name\":'abc', \"age\":33} #딕셔너리 생성\n",
    "\n",
    "    # list type\n",
    "#     data1 = [{\"id\":\"aaa\", \"name\":\"가다라\", \"age\":22},\n",
    "#                  {\"id\":\"aaa\", \"name\":\"다라마\", \"age\":32},\n",
    "#                  {\"id\":\"aaa\", \"name\":\"다라마\", \"age\":32}]\n",
    "\n",
    "    # mongodb에 추가\n",
    "    collection.insert_one(dic1) # dic1 추가\n",
    "    collection.insert_many(arr2) # data1 추가\n",
    "\n",
    "    print('정상수행')\n",
    "except Exception as e:\n",
    "    print(e)\n",
    "    print('오류발생시 수행됨')\n",
    "finally:\n",
    "    conn.close() \n",
    "    print('오류와 상관없이 수행됨')\n"
   ]
  },
  {
   "cell_type": "code",
   "execution_count": 33,
   "id": "f085bec0-0f66-4ca4-8632-99a958736dab",
   "metadata": {},
   "outputs": [
    {
     "name": "stdout",
     "output_type": "stream",
     "text": [
      "[{'title': '분노의 질주: 더 얼티메이트', 'age': '12세 관람가', 'rate': '관람객 평점 9.05점', 'genre': '액션', 'time': '142분 ', 'dday': ' 2021.05.19', 'director': '저스틴 린', 'actors': '빈 디젤(도미닉 토레토), 존 시나(제이콥 토레토), 성 강(한)'}, {'title': '스파이럴', 'age': '청소년 관람불가', 'rate': '관람객 평점 7.74점', 'genre': '스릴러', 'time': '93분 ', 'dday': ' 2021.05.12', 'director': '대런 린 보우즈만', 'actors': '크리스 록, 사무엘 L. 잭슨, 마리솔 니콜스'}, {'title': '극장판 귀멸의 칼날: 무한열차편', 'age': '15세 관람가', 'rate': '관람객 평점 9.62점', 'genre': '애니메이션', 'time': '117분 ', 'dday': ' 2021.01.27', 'director': '소토자키 하루오', 'actors': '하나에 나츠키(카마도 탄지로 목소리), 키토 아카리(카마도 네즈코 목소리)'}, {'title': '도라에몽: 스탠바이미 2', 'age': '전체 관람가', 'rate': '관람객 평점 9.08점', 'genre': '애니메이션', 'time': '96분 ', 'dday': ' 2021.05.19', 'director': '야기 류이치', 'actors': '윤아영(도라에몽 한국어 목소리), 김정아(진구 한국어 목소리), 김혜성(성인 진구 한국어 목소리)'}, {'title': '더 스파이', 'age': '15세 관람가', 'rate': '관람객 평점 8.78점', 'genre': '스릴러', 'time': '112분 ', 'dday': ' 2021.04.28', 'director': '도미닉 쿡', 'actors': '베네딕트 컴버배치(그레빌 윈)'}]\n"
     ]
    }
   ],
   "source": [
    "# 5.수집된 자료를 HADDOP에 저장\n",
    "import hdfs\n",
    "import json\n",
    "\n",
    "# 1. hdfs web으로 접속 ( 9870, 9864, 9000, 9866 )\n",
    "client_hdfs = hdfs.InsecureClient('http://1.234.5.158:9870', user='hdfs')\n",
    "\n",
    "# 2. 수집한 자료 (리스트 (딕셔너리) )\n",
    "\n",
    "print(arr2)\n",
    "# 3. 삭제하기\n",
    "# client_hdfs.delete('/id100/ex_20210525.json')\n",
    "\n",
    "# 4. 저장하기\n",
    "# with는 자원을 획득하고 사용 후 반납해야 하는 경우에 사용\n",
    "with client_hdfs.write('/id117/exam_movie.json', encoding = \"utf-8\" ) as writer:\n",
    "    json.dump(arr2, writer)\n",
    "\n",
    "# 5. 확인 크롬에서  http://1.234.5.158:9870/explorer.html#/"
   ]
  }
 ],
 "metadata": {
  "kernelspec": {
   "display_name": "Python 3",
   "language": "python",
   "name": "python3"
  },
  "language_info": {
   "codemirror_mode": {
    "name": "ipython",
    "version": 3
   },
   "file_extension": ".py",
   "mimetype": "text/x-python",
   "name": "python",
   "nbconvert_exporter": "python",
   "pygments_lexer": "ipython3",
   "version": "3.8.8"
  }
 },
 "nbformat": 4,
 "nbformat_minor": 5
}
