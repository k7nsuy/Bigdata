{
 "cells": [
  {
   "cell_type": "code",
   "execution_count": 11,
   "id": "326acb77-ee0a-4d5a-8bc7-2eb9deaa0289",
   "metadata": {},
   "outputs": [
    {
     "name": "stdin",
     "output_type": "stream",
     "text": [
      "숫자 입력? 3\n",
      "숫자 입력? 4\n"
     ]
    },
    {
     "name": "stdout",
     "output_type": "stream",
     "text": [
      "합은 34\n"
     ]
    }
   ],
   "source": [
    "a = input('숫자 입력?')\n",
    "b = input('숫자 입력?')\n",
    "print(f'합은 {a+b}')"
   ]
  },
  {
   "cell_type": "code",
   "execution_count": 12,
   "id": "2b9f9525-5af1-4273-9de9-4371ef1d30f8",
   "metadata": {},
   "outputs": [
    {
     "name": "stdout",
     "output_type": "stream",
     "text": [
      "가나다\n"
     ]
    }
   ],
   "source": [
    "b = {\"name\":\"가나다\",\"age\":34}\n",
    "print(b[\"name\"])"
   ]
  },
  {
   "cell_type": "code",
   "execution_count": 21,
   "id": "4cb4c051-5a36-4ada-ba88-3960fcbcc367",
   "metadata": {},
   "outputs": [
    {
     "name": "stdout",
     "output_type": "stream",
     "text": [
      "{'name': '가', 'age': 41}\n",
      "가\n"
     ]
    },
    {
     "data": {
      "text/plain": [
       "list"
      ]
     },
     "execution_count": 21,
     "metadata": {},
     "output_type": "execute_result"
    }
   ],
   "source": [
    "a = [ {\"name\":\"가\",\"age\":4}, {\"name\":\"가\",\"age\":41} ]\n",
    "print(a[1])\n",
    "print(a[1]['name'])\n",
    "type(a)"
   ]
  },
  {
   "cell_type": "code",
   "execution_count": null,
   "id": "d4aa7913-58a4-468d-8154-a8ce3f2d8faf",
   "metadata": {},
   "outputs": [],
   "source": [
    "import requests\n",
    "import json\n",
    "\n",
    "url = \"https://yts.mx/api/v2/list_movies.json\"\n",
    "data = requests.get(url).text\n",
    "data1 = json.loads(data)\n",
    "# print(data1['data']['movies'])\n",
    "data2 = data1['data']\n",
    "data3 = data2['movies']\n",
    "# print(data2)\n",
    "\n",
    "# print(data2[0])\n",
    "data4 = data3[0]\n",
    "data5 = []\n",
    "# print(data3)\n",
    "for i in data3:\n",
    "#     print(type(i))\n",
    "#     print(i)\n",
    "    data5.append([i['id'],i['url'],i['imdb_code'],i['title'],i['title_english'],i['title_long'],\n",
    "                  i['slug'],i['year'],i['rating'],i['runtime'],i['genres'],i['summary'],i['description_full'],\n",
    "                  i['synopsis'],i['language']])\n",
    "data5\n"
   ]
  },
  {
   "cell_type": "code",
   "execution_count": 116,
   "id": "d08b1d7d-0740-4931-952b-60045b298756",
   "metadata": {},
   "outputs": [],
   "source": [
    "# csv파일 만들어 데이터 저장\n",
    "import csv\n",
    "\n",
    "# 저장위치 ,w ,r ,a ,utf-8 ,euc-kr\n",
    "file = open('csv/practice03.csv','w',encoding='utf-8',newline='')\n",
    "wr = csv.writer(file) \n",
    "wr.writerow(['id','url','imdb_code','title','title_english']) # column명 추가\n",
    "for i in data5:\n",
    "    wr.writerow(i)\n",
    "file.close()"
   ]
  },
  {
   "cell_type": "code",
   "execution_count": 61,
   "id": "5b507649-d83b-4c80-85b1-9fe26f111d1e",
   "metadata": {},
   "outputs": [],
   "source": [
    "import csv\n",
    "file = open('csv/practice.csv','w',encoding='utf-8')\n",
    "wr = csv.writer(file)\n",
    "\n",
    "for i in data1['data']['movies']:\n",
    "    wr.writerow(i)\n",
    "    \n",
    "file.close()"
   ]
  }
 ],
 "metadata": {
  "kernelspec": {
   "display_name": "Python 3",
   "language": "python",
   "name": "python3"
  },
  "language_info": {
   "codemirror_mode": {
    "name": "ipython",
    "version": 3
   },
   "file_extension": ".py",
   "mimetype": "text/x-python",
   "name": "python",
   "nbconvert_exporter": "python",
   "pygments_lexer": "ipython3",
   "version": "3.8.8"
  }
 },
 "nbformat": 4,
 "nbformat_minor": 5
}
