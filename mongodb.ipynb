{
 "cells": [
  {
   "cell_type": "code",
   "execution_count": null,
   "id": "48e6ead2-969c-4635-9b46-df62e88af508",
   "metadata": {},
   "outputs": [],
   "source": [
    "# mongodb 라이브러리 설치\n",
    "! pip install pymongo"
   ]
  },
  {
   "cell_type": "code",
   "execution_count": null,
   "id": "0da46e55-c142-4ded-881f-5607cc661d5a",
   "metadata": {},
   "outputs": [],
   "source": [
    "# mongodb 접속\n",
    "import pymongo\n",
    "\n",
    "try:\n",
    "    username = \"id100\"\n",
    "    password = \"pw100\"\n",
    "    host = \"1.234.5.158\"\n",
    "    port = 37017\n",
    "    dbname = \"id100\"\n",
    "\n",
    "\n",
    "\n",
    "    # mongodb 접속\n",
    "    # conn = pymongo.MongoClient(f\"mongodb://{host}:{port}\") \n",
    "    conn= pymongo.MongoClient(f'mongodb://{username}:{password}@{host}:{port}/{dbname}')\n",
    "\n",
    "    db = conn.get_database(dbname) #db선택\n",
    "    collection = db.get_collection(\"ex01_21-05-20\") #collection == table과 비슷함\n",
    "\n",
    "    # dict type\n",
    "    dic1 = {\"id\":\"pyid\", \"pw\":\"aaa\",\"name\":'abc', \"age\":33} #딕셔너리 생성\n",
    "\n",
    "    # list type\n",
    "    data1 = [{\"id\":\"aaa\", \"name\":\"가다라\", \"age\":22},\n",
    "                 {\"id\":\"aaa\", \"name\":\"다라마\", \"age\":32},\n",
    "                 {\"id\":\"aaa\", \"name\":\"다라마\", \"age\":32}]\n",
    "\n",
    "    # mongodb에 추가\n",
    "    collection.insert_one(dic1) # dic1 추가\n",
    "    collection.insert_many(data1) # data1 추가\n",
    "\n",
    "    print('정상수행')\n",
    "except Exception as e:\n",
    "    print(e)\n",
    "    print('오류발생시 수행됨')\n",
    "finally:\n",
    "    conn.close() \n",
    "    print('오류와 상관없이 수행됨')\n"
   ]
  },
  {
   "cell_type": "code",
   "execution_count": null,
   "id": "71706b52-674b-4b2c-9830-dc9aba6ae665",
   "metadata": {},
   "outputs": [],
   "source": [
    "# mongodb에 저장된 data 가져오기\n",
    "# db.ex1_20-05-20.find({  })\n",
    "\n",
    "data2 = collection.find({},{'_id':0,'id':0}) # data _id 와 id를 제외하고 가져오기 0 , 그 데이터만 가져오기 1\n",
    "for tmp in data2:\n",
    "    print(tmp)"
   ]
  },
  {
   "cell_type": "code",
   "execution_count": null,
   "id": "511cd7e4-f037-4e91-afe1-210efbe53165",
   "metadata": {},
   "outputs": [],
   "source": [
    "# 정렬해서 가져오기\n",
    "data3 = collection.find({},{'_id':0}).sort([('age',pymongo.DESCENDING)]) # data 0번 위치 제외하고 가져오기\n",
    "# data3 = collection.find({},{'_id':0}).sort([('age',pymongo.DESCENDING)]).limit(3) #3개만 불러오기\n",
    "for tmp in data3:\n",
    "    print(tmp,type(tmp))"
   ]
  },
  {
   "cell_type": "code",
   "execution_count": null,
   "id": "91465979-bdd8-4311-923f-9a96c1970e43",
   "metadata": {},
   "outputs": [],
   "source": [
    "data = collection.find({'id':'aaa'},{'_id':0})\n",
    "for tmp in data:\n",
    "    print(tmp, type(tmp))"
   ]
  },
  {
   "cell_type": "code",
   "execution_count": null,
   "id": "dd0ee0a8-ac8a-4067-9c8e-6395db6c2c9f",
   "metadata": {},
   "outputs": [],
   "source": [
    "# age가 30보다 큰 데이터 가져오기\n",
    "data = collection.find({'age':{'$gt':30}},{'_id':0})\n",
    "for tmp in data:\n",
    "    print(tmp, type(tmp))"
   ]
  },
  {
   "cell_type": "code",
   "execution_count": null,
   "id": "5eeda8d8-4678-49c3-9d6a-1afaacdb8954",
   "metadata": {},
   "outputs": [],
   "source": [
    "# and , or 연산자 age:32 와 id:aaa 데이터만 불러오기 \n",
    "data = collection.find({'$and':[{'age':32},{'id':'aaa'}]},{'_id':0})\n",
    "for tmp in data:\n",
    "    print(tmp,type(tmp))"
   ]
  },
  {
   "cell_type": "code",
   "execution_count": null,
   "id": "d9c3e75a-cb0c-4ae7-9b0d-35e18df528dd",
   "metadata": {},
   "outputs": [],
   "source": [
    "# 수정하기\n",
    "# 1개만 변경\n",
    "# data = collection.update_one({'id':'aaa'},{'$set':{'age':100}})\n",
    "\n",
    "#모두 변경\n",
    "data = collection.update_many({'id':'aaa'},{'$set':{'age':100}})\n",
    "data = collection.find({'id':'aaa'},{'_id':0})\n",
    "for tmp in data:\n",
    "    print(tmp)"
   ]
  },
  {
   "cell_type": "code",
   "execution_count": null,
   "id": "a6381bcb-9fd4-4e6e-a844-3357d5198876",
   "metadata": {},
   "outputs": [],
   "source": [
    "# 삭제하기\n",
    "data = collection.delete_one({'id':'aaa'})\n",
    "\n",
    "data = collection.find({'id':'aaa'},{'_id':0})\n",
    "for tmp in data:\n",
    "    print(tmp,type(data))"
   ]
  }
 ],
 "metadata": {
  "kernelspec": {
   "display_name": "Python 3",
   "language": "python",
   "name": "python3"
  },
  "language_info": {
   "codemirror_mode": {
    "name": "ipython",
    "version": 3
   },
   "file_extension": ".py",
   "mimetype": "text/x-python",
   "name": "python",
   "nbconvert_exporter": "python",
   "pygments_lexer": "ipython3",
   "version": "3.8.8"
  }
 },
 "nbformat": 4,
 "nbformat_minor": 5
}
