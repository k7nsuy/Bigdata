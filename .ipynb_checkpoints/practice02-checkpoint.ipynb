{
 "cells": [
  {
   "cell_type": "code",
   "execution_count": 13,
   "id": "5e2f4b8a-54bf-46b4-8ac2-5d1313ea4860",
   "metadata": {},
   "outputs": [
    {
     "name": "stderr",
     "output_type": "stream",
     "text": [
      "'pip'은(는) 내부 또는 외부 명령, 실행할 수 있는 프로그램, 또는\n",
      "배치 파일이 아닙니다.\n"
     ]
    }
   ],
   "source": [
    " # 1.오라클 연동 라이브러리 설치하기\n",
    "! pip install cx_oracle"
   ]
  },
  {
   "cell_type": "code",
   "execution_count": 11,
   "id": "c44f0263-c71b-42f0-aeb0-74cb41e11632",
   "metadata": {},
   "outputs": [
    {
     "data": {
      "text/plain": [
       "'C:\\\\instantclient_19_10;C:\\\\instantclient_19_10;C:\\\\instantclient_19_10;C:\\\\instantclient_19_10;C:\\\\instantclient_19_10;C:\\\\instantclient_19_10;C:\\\\instantclient_19_10;C:\\\\instantclient_19_10'"
      ]
     },
     "execution_count": 11,
     "metadata": {},
     "output_type": "execute_result"
    }
   ],
   "source": [
    "import os\n",
    "path = r'C:\\instantclient_19_10'\n",
    "\n",
    "os.environ[\"PATH\"] = path + \";\" + os.environ[\"PATH\"]\n",
    "os.environ[\"PATH\"]"
   ]
  }
 ],
 "metadata": {
  "kernelspec": {
   "display_name": "Python 3",
   "language": "python",
   "name": "python3"
  },
  "language_info": {
   "codemirror_mode": {
    "name": "ipython",
    "version": 3
   },
   "file_extension": ".py",
   "mimetype": "text/x-python",
   "name": "python",
   "nbconvert_exporter": "python",
   "pygments_lexer": "ipython3",
   "version": "3.8.8"
  }
 },
 "nbformat": 4,
 "nbformat_minor": 5
}
