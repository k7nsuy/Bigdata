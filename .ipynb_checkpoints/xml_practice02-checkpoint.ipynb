{
 "cells": [
  {
   "cell_type": "code",
   "execution_count": null,
   "id": "fcc99296-9c03-4392-9299-093608a0128f",
   "metadata": {},
   "outputs": [],
   "source": [
    "# mongodb에 저장하기\n",
    "import pymongo\n",
    "\n",
    "try:\n",
    "    username = \"id100\"\n",
    "    password = \"pw100\"\n",
    "    host = \"1.234.5.158\"\n",
    "    port = 37017\n",
    "    dbname = \"id100\"\n",
    "    \n",
    "    # mongodb접속\n",
    "    conn = pymongo.MongoClient(f'mongodb://{username}:{password}@{host}:{port}/{dbname}')\n",
    "    db = conn.get_database(dbname)\n",
    "    collection = db.get_collection(\"weather\")  #table과 같은 개념\n",
    "    \n",
    "    # 여러개 추가하기\n",
    "    collection.insert_many(arr)\n",
    "    print('정상수행')\n",
    "except Exception as e:\n",
    "    print(e)\n",
    "    print('오류발생시 수행됨')\n",
    "finally:\n",
    "    conn.close()\n",
    "    print('오류와 상관없이 수행됨')"
   ]
  },
  {
   "cell_type": "code",
   "execution_count": null,
   "id": "031a9944-6d7f-4b16-b5ba-59f114fc721b",
   "metadata": {},
   "outputs": [],
   "source": [
    "# http://www.weather.go.kr/weather/forecast/mid-term-rss3.jsp?stnId=109\n",
    "# 지역(province), 도시(city), 시간(tmEf), 정보(wf), 최소온도(tmn), 최고온도(tmx), 비올확인(tnSt)\n",
    "# weather_20210520 컬렉션에 보관하기\n",
    "\n",
    "import urllib.request as RQ\n",
    "import xml.etree.ElementTree as ET\n",
    "\n",
    "url = \"http://www.weather.go.kr/weather/forecast/mid-term-rss3.jsp?stnId=109\"\n",
    "\n",
    "# 웹에서 데이터를 받음\n",
    "response = RQ.urlopen(url).read()\n",
    "\n",
    "# 타입 변경 (bytes -> xml.etree.ElementTree.Element)\n",
    "root = ET.fromstring(response)\n",
    "\n",
    "# [{   },{    },{    }]\n",
    "arr = []\n",
    "for idx, tmp in enumerate(root.findall('channel/item/description/body/location')):\n",
    "    for tmp1 in tmp.findall('data'):\n",
    "        dic = {\n",
    "            'province':tmp.findtext('province'),\n",
    "            'city':tmp.findtext('city'),\n",
    "            'mode':tmp1.findtext('mode'),\n",
    "            'tmef':tmp1.findtext('tmEf'),\n",
    "            'wf':tmp1.findtext('wf'),\n",
    "            'tmn':tmp1.findtext('tmn'),\n",
    "            'tmx':tmp1.findtext('tmx'),\n",
    "            'rnSt':tmp1.findtext('rnSt')}\n",
    "        arr.append(dic)\n",
    "arr\n"
   ]
  }
 ],
 "metadata": {
  "kernelspec": {
   "display_name": "Python 3",
   "language": "python",
   "name": "python3"
  },
  "language_info": {
   "codemirror_mode": {
    "name": "ipython",
    "version": 3
   },
   "file_extension": ".py",
   "mimetype": "text/x-python",
   "name": "python",
   "nbconvert_exporter": "python",
   "pygments_lexer": "ipython3",
   "version": "3.8.8"
  }
 },
 "nbformat": 4,
 "nbformat_minor": 5
}
