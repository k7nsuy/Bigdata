{
 "cells": [
  {
   "cell_type": "code",
   "execution_count": 5,
   "id": "251c30c3-d554-46bc-bd95-ef23b1739c38",
   "metadata": {},
   "outputs": [
    {
     "name": "stdout",
     "output_type": "stream",
     "text": [
      "[{\"ret\":\"y1\",\"data\":\"123\"},{\"ret\":\"y2\",\"data\":\"234\"}]\n",
      "<class 'str'>\n",
      "[{'ret': 'y1', 'data': '123'}, {'ret': 'y2', 'data': '234'}]\n",
      "<class 'list'>\n",
      "{'ret': 'y1', 'data': '123'} <class 'dict'>\n",
      "{'ret': 'y2', 'data': '234'} <class 'dict'>\n"
     ]
    },
    {
     "data": {
      "text/plain": [
       "[['y1', 123], ['y2', 234]]"
      ]
     },
     "execution_count": 5,
     "metadata": {},
     "output_type": "execute_result"
    }
   ],
   "source": [
    "import requests\n",
    "import json\n",
    "\n",
    "url = \"http://ihongss.com/json/exam2.json\"\n",
    "data = requests.get(url).text\n",
    "print(data)\n",
    "print(type(data)) # str\n",
    "\n",
    "# str => list\n",
    "data1 = json.loads(data)\n",
    "print(data1)\n",
    "print(type(data1))\n",
    "\n",
    "# list = [{'ret': 'y1', 'data': '123'}, {'ret': 'y2', 'data': '234'}]\n",
    "# list => [['y1',123],['y2',234]] \n",
    "data2 = []\n",
    "for i in data1:\n",
    "    print(i, type(i))\n",
    "    data2.append([i['ret'],int(i['data'])])\n",
    "data2\n",
    "\n",
    "# mongoDB는 dict형태로 넣어야 데이터가 저장되므로 형변환 하는 것에 익숙해 져야 한다."
   ]
  },
  {
   "cell_type": "code",
   "execution_count": 9,
   "id": "00ce1c87-a227-4a21-9c96-5212330f7dc4",
   "metadata": {},
   "outputs": [],
   "source": [
    "# csv파일 만들어 데이터 저장\n",
    "import csv\n",
    "\n",
    "# 저장위치 ,w ,r ,a ,utf-8 ,euc-kr\n",
    "file = open('csv/20210518_1103.csv','w',encoding='utf-8',newline='')\n",
    "wr = csv.writer(file) \n",
    "wr.writerow(['ret','data']) # column명 추가\n",
    "for i in data2:\n",
    "    wr.writerow(i)\n",
    "file.close()"
   ]
  },
  {
   "cell_type": "code",
   "execution_count": 13,
   "id": "becdc612-71cd-45c3-94d4-c47287f52fb3",
   "metadata": {},
   "outputs": [
    {
     "name": "stdout",
     "output_type": "stream",
     "text": [
      "['y1', '123']\n",
      "['y2', '234']\n"
     ]
    }
   ],
   "source": [
    "# csv파일의 데이터 불러오기\n",
    "import csv\n",
    "\n",
    "file = open('csv/20210518_1103.csv','r',encoding='utf-8')\n",
    "rd = csv.reader(file)\n",
    "# next(rd,None) # 한줄 skip\n",
    "for i in rd:\n",
    "    print(i)\n",
    "file.close()"
   ]
  },
  {
   "cell_type": "code",
   "execution_count": 18,
   "id": "bc493596-d823-47e2-939b-2bfb59a1fb54",
   "metadata": {},
   "outputs": [
    {
     "name": "stdout",
     "output_type": "stream",
     "text": [
      "<class 'str'>\n",
      "<class 'dict'>\n",
      "{'ret': 'y', 'data': [{'id': 'a', 'name': '가나다1', 'age': 61, 'height': 165.4, 'weight': 60.2}, {'id': 'b', 'name': '가나다2', 'age': 32, 'height': 185.4, 'weight': 80.3}, {'id': 'c', 'name': '가나다3', 'age': 13, 'height': 145.8, 'weight': 60.6}, {'id': 'd', 'name': '가나다4', 'age': 44, 'height': 165.7, 'weight': 44.5}, {'id': 'e', 'name': '가나다5', 'age': 85, 'height': 165.2, 'weight': 42.3}]}\n",
      "ret <class 'str'>\n",
      "data <class 'str'>\n"
     ]
    }
   ],
   "source": [
    "import csv\n",
    "import requests\n",
    "\n",
    "url = \"http://ihongss.com/json/exam7.json\"\n",
    "data3 = requests.get(url).text\n",
    "\n",
    "print(type(data3))\n",
    "\n",
    "data4 = json.loads(data3)\n",
    "print(type(data4))\n",
    "\n",
    "data5 = []\n",
    "for i in data4:\n",
    "    print(i,type(i))"
   ]
  },
  {
   "cell_type": "code",
   "execution_count": null,
   "id": "722614f6-cacd-4f27-9c14-ea8948f7864d",
   "metadata": {},
   "outputs": [],
   "source": [
    "import csv\n",
    "\n",
    "file = open('csv/20210518_ex01','w',encoding='utf-8')\n",
    "\n",
    "wr = csv.writer(file)\n",
    "wr.writerow([])\n",
    "for i in "
   ]
  }
 ],
 "metadata": {
  "kernelspec": {
   "display_name": "Python 3",
   "language": "python",
   "name": "python3"
  },
  "language_info": {
   "codemirror_mode": {
    "name": "ipython",
    "version": 3
   },
   "file_extension": ".py",
   "mimetype": "text/x-python",
   "name": "python",
   "nbconvert_exporter": "python",
   "pygments_lexer": "ipython3",
   "version": "3.8.8"
  }
 },
 "nbformat": 4,
 "nbformat_minor": 5
}
