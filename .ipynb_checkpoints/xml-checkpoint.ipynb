{
 "cells": [
  {
   "cell_type": "code",
   "execution_count": 31,
   "id": "f546ba69-d29b-48cf-9b4f-fe718348f0a6",
   "metadata": {},
   "outputs": [
    {
     "data": {
      "text/plain": [
       "b'<?xml version=\\'1.0\\' encoding=\\'utf-8\\'?>\\n<response>\\n  <items>\\n    <item id=\"1\">\\n      <name>one</name>\\n    </item>\\n    <item id=\"2\">\\n      <name>two</name>\\n    </item>\\n    <item id=\"3\">\\n      <name>three</name>\\n    </item>\\n  </items>\\n</response>\\n'"
      ]
     },
     "execution_count": 31,
     "metadata": {},
     "output_type": "execute_result"
    }
   ],
   "source": [
    "# xml 데이터 가져오기\n",
    "# import 방법1\n",
    "import urllib.request\n",
    "\n",
    "url = 'http://ihongss.com/xml/exam1.xml'\n",
    "\n",
    "response = urllib.request.urlopen(url).read()\n",
    "response"
   ]
  },
  {
   "cell_type": "code",
   "execution_count": 32,
   "id": "1c4e41d1-4fa8-4140-88dd-49a2f7047ba4",
   "metadata": {},
   "outputs": [
    {
     "data": {
      "text/plain": [
       "b'<?xml version=\\'1.0\\' encoding=\\'utf-8\\'?>\\n<response>\\n  <items>\\n    <item id=\"1\">\\n      <name>one</name>\\n    </item>\\n    <item id=\"2\">\\n      <name>two</name>\\n    </item>\\n    <item id=\"3\">\\n      <name>three</name>\\n    </item>\\n  </items>\\n</response>\\n'"
      ]
     },
     "execution_count": 32,
     "metadata": {},
     "output_type": "execute_result"
    }
   ],
   "source": [
    "# import 방법2\n",
    "from urllib.request import urlopen\n",
    "\n",
    "url = 'http://ihongss.com/xml/exam1.xml'\n",
    "\n",
    "# 웹에서 데이터를 받음\n",
    "response = urlopen(url).read()\n",
    "response"
   ]
  },
  {
   "cell_type": "code",
   "execution_count": 10,
   "id": "b7e8b960-59e8-4ff0-bea0-56bbccb79c1e",
   "metadata": {},
   "outputs": [
    {
     "name": "stdout",
     "output_type": "stream",
     "text": [
      "items {} \n",
      "    \n",
      "item {'id': '1'} \n",
      "      \n",
      "name {} one\n",
      "item {'id': '2'} \n",
      "      \n",
      "name {} two\n",
      "item {'id': '3'} \n",
      "      \n",
      "name {} three\n"
     ]
    }
   ],
   "source": [
    "import xml.etree.ElementTree as et\n",
    "import urllib.request\n",
    "\n",
    "url = 'http://ihongss.com/xml/exam1.xml'\n",
    "\n",
    "response = urllib.request.urlopen(url).read()\n",
    "\n",
    "# 데이터를 파싱\n",
    "root = et.fromstring(response)\n",
    "for tmp in root: # 반복문 1번\n",
    "    print(tmp.tag,tmp.attrib,tmp.text)\n",
    "    for tmp2 in tmp: # 반복문 3번\n",
    "        print(tmp2.tag,tmp2.attrib,tmp2.text)\n",
    "        for tmp3 in tmp2: # 반복문 1번\n",
    "            print(tmp3.tag,tmp3.attrib,tmp3.text)"
   ]
  },
  {
   "cell_type": "code",
   "execution_count": 7,
   "id": "148a6ea4-208d-4484-a065-31c352db1d8e",
   "metadata": {},
   "outputs": [
    {
     "name": "stdout",
     "output_type": "stream",
     "text": [
      "1 one\n",
      "2 two\n",
      "3 three\n"
     ]
    }
   ],
   "source": [
    "import xml.etree.ElementTree as et\n",
    "import urllib.request\n",
    "\n",
    "url = 'http://ihongss.com/xml/exam1.xml'\n",
    "response = urllib.request.urlopen(url).read()\n",
    "\n",
    "root = et.fromstring(response)\n",
    "\n",
    "for tmp in root.findall(\"items/item\"):\n",
    "#     print(tmp.tag, tmp.attrib, tmp.text)\n",
    "    print(tmp.attrib['id'], tmp.find(\"name\").text)"
   ]
  }
 ],
 "metadata": {
  "kernelspec": {
   "display_name": "Python 3",
   "language": "python",
   "name": "python3"
  },
  "language_info": {
   "codemirror_mode": {
    "name": "ipython",
    "version": 3
   },
   "file_extension": ".py",
   "mimetype": "text/x-python",
   "name": "python",
   "nbconvert_exporter": "python",
   "pygments_lexer": "ipython3",
   "version": "3.8.8"
  }
 },
 "nbformat": 4,
 "nbformat_minor": 5
}
