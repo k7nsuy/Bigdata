{
 "cells": [
  {
   "cell_type": "code",
   "execution_count": 19,
   "id": "dad1270e-c29f-4475-8ffb-febaebf67359",
   "metadata": {},
   "outputs": [
    {
     "name": "stdout",
     "output_type": "stream",
     "text": [
      "한글만 있음\n",
      "(0, 7) 홍길동가가가가\n",
      "(0, 7) 홍길동가가가가\n"
     ]
    }
   ],
   "source": [
    "# 데이터 분석\n",
    "\n",
    "# 정규식\n",
    "import re\n",
    "\n",
    "# 한글인지 확인\n",
    "name = \"홍길동가가가가\"\n",
    "\n",
    "# 시작 : ^[] n개 {최소개수,최대개수} $ :종료\n",
    "b = re.match('^[가-힣]+$',name)\n",
    "c = re.match('^[가-힣]{2,7}$',name)\n",
    "if b != None:\n",
    "    print('한글만 있음')\n",
    "    print(b.span(),b.group()) # 매칭하는 범위, 매칭했던 문자\n",
    "    print(c.span(),c.group())\n",
    "else:\n",
    "    print('한글 외 다른문자도 있음')"
   ]
  },
  {
   "cell_type": "code",
   "execution_count": 29,
   "id": "4804826f-866f-41a6-87df-aacd34e4570c",
   "metadata": {},
   "outputs": [
    {
     "name": "stdout",
     "output_type": "stream",
     "text": [
      "이메일 형식 일치\n"
     ]
    }
   ],
   "source": [
    "import re\n",
    "# e-mail\n",
    "# asdf234@naver.com\n",
    "\n",
    "email = \"asdf234@naver.com\"\n",
    "\n",
    "b = re.match('^[a-zA-Z0-9+.]+\\@[A-zA-Z0-9+.]+\\.[A-zA-Z0-9+_.]+$',email)\n",
    "if b != None:\n",
    "    print(\"이메일 형식 일치\")\n",
    "else:\n",
    "    print(\"이메일 일치 X\")"
   ]
  },
  {
   "cell_type": "code",
   "execution_count": 40,
   "id": "e5efcd4a-2a37-4a45-8b7b-9c72cb71abc8",
   "metadata": {},
   "outputs": [
    {
     "name": "stdout",
     "output_type": "stream",
     "text": [
      "전화번호 형식 일치\n"
     ]
    }
   ],
   "source": [
    "# \n",
    "import re\n",
    "# 전화번호\n",
    "\n",
    "tel = \"011-0000-0000\"\n",
    "\n",
    "# 123 667\n",
    "# ^[ ([1-3]{3} | [6-9]{3}) ]\n",
    "\n",
    "# 01~09 10~12\n",
    "# ([0]{1}[0-9]{1} | [1]{1}[1-2]{1})\n",
    "\n",
    "b = re.match('^[0-9]{3}\\-[0-9]{4}\\-[0-9]{4}$',tel)\n",
    "if b != None:\n",
    "    print(\"전화번호 형식 일치\")\n",
    "else:\n",
    "    print(\"전화번호 일치 X\")"
   ]
  },
  {
   "cell_type": "code",
   "execution_count": 47,
   "id": "1e91777a-b7bf-42ac-bdd8-e04d2398b87e",
   "metadata": {},
   "outputs": [
    {
     "name": "stdout",
     "output_type": "stream",
     "text": [
      "{'id': 'a', 'name': '가나다', 'email': '@naver.com', 'date': '2019-01-10', 'time': '14:50:59', 'birth': ''} 2019-01-10 <class 'dict'>\n",
      "이름 패턴\n",
      "{'id': 'b', 'name': '홍길동', 'email': 'bcd@naver.com', 'date': '01-10', 'time': '06:50', 'birth': '09/10/1994'} 01-10 <class 'dict'>\n",
      "이름 패턴\n",
      "{'id': 'c', 'name': '나다라', 'email': 'def@daum.net', 'date': '2019-01', 'time': '146:50:59', 'birth': '09/10/1996'} 2019-01 <class 'dict'>\n",
      "이름 패턴\n",
      "{'id': 'd', 'name': '바', 'email': 'abc@naver.com', 'date': '2019-05-10', 'time': '04:50:59', 'birth': '11/10/1998'} 2019-05-10 <class 'dict'>\n",
      "이름 X\n",
      "{'id': 'e', 'name': '마바사', 'email': 'bbb@naver.com', 'date': '2019-01-100', 'time': '14:50:59', 'birth': '09/10/2019'} 2019-01-100 <class 'dict'>\n",
      "이름 패턴\n",
      "{'id': 'f', 'name': '홍갈똥', 'email': 'abc@google.com', 'date': '2019-01-10', 'time': '14:50:59', 'birth': '09/10/1998'} 2019-01-10 <class 'dict'>\n",
      "이름 패턴\n",
      "{'id': 'g', 'name': '마지막', 'email': 'bcd@naver.com', 'date': '01-10', 'time': '14:50', 'birth': '09/10/1994'} 01-10 <class 'dict'>\n",
      "이름 패턴\n",
      "{'id': 'h', 'name': '시', 'email': 'def@daum.net', 'date': '2019-01-13', 'time': '14:50:59', 'birth': '10/10/1996'} 2019-01-13 <class 'dict'>\n",
      "이름 X\n",
      "{'id': 'i', 'name': '가나라', 'email': 'abc_123@naver', 'date': '2019-01-10', 'time': '14-50:59', 'birth': '09/12/2004'} 2019-01-10 <class 'dict'>\n",
      "이름 패턴\n",
      "{'id': 'h', 'name': '마바사', 'email': 'ccccc@naver.com', 'date': '2019-01-10', 'time': '14:78:59', 'birth': '09/13/2019'} 2019-01-10 <class 'dict'>\n",
      "이름 패턴\n"
     ]
    }
   ],
   "source": [
    "import requests\n",
    "import json\n",
    "import csv\n",
    "\n",
    "url = \"http://ihongss.com/json/exam18.json\"\n",
    "data = requests.get(url).text\n",
    "data1 = json.loads(data)\n",
    "\n",
    "for tmp in data1:\n",
    "    print(tmp,tmp['date'],type(tmp))\n",
    "    \n",
    "    # 이름 패턴\n",
    "    b = re.match('^[가-힣]{2,5}$',tmp['name'])\n",
    "    if(b != None):\n",
    "        print(\"이름 패턴\")\n",
    "    else:\n",
    "        print('이름 X')\n",
    "        \n",
    "    # 이메일 패턴\n",
    "    c = re.match('',tmp['email'])\n",
    "    \n",
    "    if(b != None and c != None):\n",
    "        pass "
   ]
  }
 ],
 "metadata": {
  "kernelspec": {
   "display_name": "Python 3",
   "language": "python",
   "name": "python3"
  },
  "language_info": {
   "codemirror_mode": {
    "name": "ipython",
    "version": 3
   },
   "file_extension": ".py",
   "mimetype": "text/x-python",
   "name": "python",
   "nbconvert_exporter": "python",
   "pygments_lexer": "ipython3",
   "version": "3.8.8"
  }
 },
 "nbformat": 4,
 "nbformat_minor": 5
}
