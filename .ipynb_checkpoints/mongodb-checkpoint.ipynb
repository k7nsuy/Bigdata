{
 "cells": [
  {
   "cell_type": "code",
   "execution_count": null,
   "id": "48e6ead2-969c-4635-9b46-df62e88af508",
   "metadata": {},
   "outputs": [],
   "source": [
    "# mongodb 라이브러리 설치\n",
    "! pip install pymongo"
   ]
  },
  {
   "cell_type": "code",
   "execution_count": null,
   "id": "0da46e55-c142-4ded-881f-5607cc661d5a",
   "metadata": {},
   "outputs": [],
   "source": [
    "# mongodb 접속\n",
    "import pymongo\n",
    "\n",
    "try:\n",
    "    username = \"id100\"\n",
    "    password = \"pw100\"\n",
    "    host = \"1.234.5.158\"\n",
    "    port = 37017\n",
    "    dbname = \"id100\"\n",
    "\n",
    "\n",
    "    # mongodb 접속\n",
    "    # conn = pymongo.MongoClient(f\"mongodb://{host}:{port}\") \n",
    "    conn= pymongo.MongoClient(f'mongodb://{username}:{password}@{host}:{port}/{dbname}')\n",
    "\n",
    "    db = conn.get_database(dbname) #db선택\n",
    "    collection = db.get_collection(\"ex01_21-05-20\") #collection == table과 비슷함\n",
    "\n",
    "    # dict type\n",
    "    dic1 = {\"id\":\"pyid\", \"pw\":\"aaa\",\"name\":'abc', \"age\":33} #딕셔너리 생성\n",
    "\n",
    "    # list type\n",
    "    data1 = [{\"id\":\"aaa\", \"name\":\"가다라\", \"age\":22},\n",
    "                 {\"id\":\"aaa\", \"name\":\"다라마\", \"age\":32},\n",
    "                 {\"id\":\"aaa\", \"name\":\"다라마\", \"age\":32}]\n",
    "\n",
    "    # mongodb에 추가\n",
    "    collection.insert_one(dic1) # dic1 추가\n",
    "    collection.insert_many(data1) # data1 추가\n",
    "\n",
    "    print('정상수행')\n",
    "except Exception as e:\n",
    "    print(e)\n",
    "    print('오류발생시 수행됨')\n",
    "finally:\n",
    "    conn.close() \n",
    "    print('오류와 상관없이 수행됨')\n"
   ]
  },
  {
   "cell_type": "code",
   "execution_count": null,
   "id": "71706b52-674b-4b2c-9830-dc9aba6ae665",
   "metadata": {},
   "outputs": [],
   "source": [
    "# mongodb에 저장된 data 가져오기\n",
    "# db.ex1_20-05-20.find({  })\n",
    "\n",
    "data2 = collection.find({},{'_id':0,'id':0}) # data _id 와 id를 제외하고 가져오기 0 , 그 데이터만 가져오기 1\n",
    "for tmp in data2:\n",
    "    print(tmp)"
   ]
  },
  {
   "cell_type": "code",
   "execution_count": null,
   "id": "511cd7e4-f037-4e91-afe1-210efbe53165",
   "metadata": {},
   "outputs": [],
   "source": [
    "# 정렬해서 가져오기\n",
    "data3 = collection.find({},{'_id':0}).sort([('age',pymongo.DESCENDING)]) # data 0번 위치 제외하고 가져오기\n",
    "# data3 = collection.find({},{'_id':0}).sort([('age',pymongo.DESCENDING)]).limit(3) #3개만 불러오기\n",
    "for tmp in data3:\n",
    "    print(tmp,type(tmp))"
   ]
  },
  {
   "cell_type": "code",
   "execution_count": null,
   "id": "91465979-bdd8-4311-923f-9a96c1970e43",
   "metadata": {},
   "outputs": [],
   "source": [
    "data = collection.find({'id':'aaa'},{'_id':0})\n",
    "for tmp in data:\n",
    "    print(tmp, type(tmp))"
   ]
  },
  {
   "cell_type": "code",
   "execution_count": null,
   "id": "dd0ee0a8-ac8a-4067-9c8e-6395db6c2c9f",
   "metadata": {},
   "outputs": [],
   "source": [
    "# age가 30보다 큰 데이터 가져오기\n",
    "data = collection.find({'age':{'$gt':30}},{'_id':0})\n",
    "for tmp in data:\n",
    "    print(tmp, type(tmp))"
   ]
  },
  {
   "cell_type": "code",
   "execution_count": null,
   "id": "5eeda8d8-4678-49c3-9d6a-1afaacdb8954",
   "metadata": {},
   "outputs": [],
   "source": [
    "# and , or 연산자 age:32 와 id:aaa 데이터만 불러오기 \n",
    "data = collection.find({'$and':[{'age':32},{'id':'aaa'}]},{'_id':0})\n",
    "for tmp in data:\n",
    "    print(tmp,type(tmp))"
   ]
  },
  {
   "cell_type": "code",
   "execution_count": null,
   "id": "d9c3e75a-cb0c-4ae7-9b0d-35e18df528dd",
   "metadata": {},
   "outputs": [],
   "source": [
    "# 수정하기\n",
    "# 1개만 변경\n",
    "# data = collection.update_one({'id':'aaa'},{'$set':{'age':100}})\n",
    "\n",
    "#모두 변경\n",
    "data = collection.update_many({'id':'aaa'},{'$set':{'age':100}})\n",
    "data = collection.find({'id':'aaa'},{'_id':0})\n",
    "for tmp in data:\n",
    "    print(tmp)"
   ]
  },
  {
   "cell_type": "code",
   "execution_count": null,
   "id": "a6381bcb-9fd4-4e6e-a844-3357d5198876",
   "metadata": {},
   "outputs": [],
   "source": [
    "# 삭제하기\n",
    "data = collection.delete_one({'id':'aaa'})\n",
    "\n",
    "data = collection.find({'id':'aaa'},{'_id':0})\n",
    "for tmp in data:\n",
    "    print(tmp,type(data))"
   ]
  },
  {
   "cell_type": "code",
   "execution_count": null,
   "id": "bd7b9296-68f2-4188-b029-aff6ced0048d",
   "metadata": {},
   "outputs": [],
   "source": [
    "import pymongo\n",
    "import pandas as pd\n",
    "\n",
    "try:\n",
    "    username = \"id100\"\n",
    "    password = \"pw100\"\n",
    "    host = \"1.234.5.158\"\n",
    "    port = 37017\n",
    "    dbname = \"id100\"\n",
    "\n",
    "    # conn = pymongo.MongoClient(f\"mongodb://{host}:{port}\") \n",
    "    conn= pymongo.MongoClient(f'mongodb://{username}:{password}@{host}:{port}/{dbname}')\n",
    "\n",
    "    db = conn.get_database(dbname) #db선택\n",
    "    collection = db.get_collection(\"ex1_20210526_2\") #collection == table과 비슷함\n",
    "\n",
    "    data6 = collection.find({}, {'_id':0})\n",
    "#     df = pd.DataFrame(data)\n",
    "#     for tmp in data:\n",
    "#         print(tmp)\n",
    "    \n",
    "except Exception as e:\n",
    "    print(e)\n",
    "finally:\n",
    "    conn.close()"
   ]
  },
  {
   "cell_type": "code",
   "execution_count": null,
   "id": "187af1fb-eb7c-4e9e-bb67-c60012e6276b",
   "metadata": {},
   "outputs": [],
   "source": [
    "# 가져온 이미지 출력하기\n",
    "from PIL import Image\n",
    "import io\n",
    "\n",
    "# 가져온 데이터 이미지로 출력하기\n",
    "img1 = data6[0]['binary_data']\n",
    "\n",
    "output = Image.open(io.BytesIO(img1)) #bytes를 _io.bytes 타입으로 변환\n",
    "output"
   ]
  },
  {
   "cell_type": "code",
   "execution_count": null,
   "id": "98b7a48d-68ad-44f7-a82f-fa6f0d6f0199",
   "metadata": {},
   "outputs": [],
   "source": [
    "import pymongo\n",
    "import pandas as pd\n",
    "\n",
    "try:\n",
    "    username = \"id117\"\n",
    "    password = \"pw117\"\n",
    "    host = \"1.234.5.158\"\n",
    "    port = 37017\n",
    "    dbname = \"id117\"\n",
    "\n",
    "    # conn = pymongo.MongoClient(f\"mongodb://{host}:{port}\") \n",
    "    conn= pymongo.MongoClient(f'mongodb://{username}:{password}@{host}:{port}/{dbname}')\n",
    "\n",
    "    db = conn.get_database(dbname) #db선택\n",
    "    collection = db.get_collection(\"ex1_20210526_2\") #collection == table과 비슷함\n",
    "    collection.insert_many(data5)\n",
    "\n",
    "except Exception as e:\n",
    "    print(e)\n",
    "finally:\n",
    "    conn.close() "
   ]
  },
  {
   "cell_type": "code",
   "execution_count": null,
   "id": "7d1cf7cb-a38f-404e-b929-05a89d4d653b",
   "metadata": {},
   "outputs": [],
   "source": [
    "df.head() # 5개만 출력"
   ]
  },
  {
   "cell_type": "code",
   "execution_count": null,
   "id": "6d770191-05b3-49c2-9815-b18241820e43",
   "metadata": {},
   "outputs": [],
   "source": [
    "import pandas as pd\n",
    "\n",
    "# 수집한 데이터 [{},{},{}] => mongodb,hadoop\n",
    "data = [{\"key\":\"aaa\",\"value\":1},{\"key\":\"bbb\",\"value\":2},{\"key\":\"ccc\",\"value\":3}]\n",
    "\n",
    "df = pd.DataFrame(data)\n",
    "df"
   ]
  },
  {
   "cell_type": "code",
   "execution_count": null,
   "id": "0c5f482b-f417-4873-809a-416bd7d55325",
   "metadata": {},
   "outputs": [],
   "source": [
    "# dataframe to dict로 변환\n",
    "data1 = df.to_dict(orient='records')\n",
    "data1"
   ]
  },
  {
   "cell_type": "code",
   "execution_count": null,
   "id": "4b83aaf7-8411-4d71-997f-294eb2e4ab93",
   "metadata": {},
   "outputs": [],
   "source": [
    "from selenium import webdriver\n",
    "import bs4 # pip install bs4\n",
    "import time\n",
    "import urllib.request as REQ # 서버 요청\n",
    "# from selenium.webdriver.chrome.options import Options\n",
    "\n",
    "url = 'https://shoppinghow.kakao.com/top'\n",
    "\n",
    "# 옵션 설정\n",
    "options = webdriver.ChromeOptions()\n",
    "options.add_argument(\"disable-gpu\")   \n",
    "options.add_argument(\"lang=ko_KR\")    \n",
    "options.add_argument('user-agent=Mozilla/5.0 (Macintosh; Intel Mac OS X 10_12_6) AppleWebKit/537.36 (KHTML, like Gecko) Chrome/61.0.3163.100 Safari/537.36')  # user-agent\n",
    "# options.add_argument('headless') # 크롬창 표시 X\n",
    "\n",
    "# 드라이버 로딩\n",
    "driver = webdriver.Chrome(executable_path='driver/chromedriver.exe', options = options)\n",
    "\n",
    "# 페이지 접속\n",
    "driver.get(url)\n",
    "\n",
    "# 로딩되는 시간 1초 기다림\n",
    "time.sleep(1)\n",
    "\n",
    "# 로딩된 html 가져오기\n",
    "response = driver.page_source\n",
    "\n",
    "# html을 bs4로 파싱하기\n",
    "soup = bs4.BeautifulSoup(response,'html.parser')\n",
    "\n",
    "for tmp in soup.select('div#topRecomKeywordWrap'):\n",
    "    for tmp1 in tmp.select('li'):\n",
    "        print(tmp1.select_one('strong > a').text)\n",
    "        print(tmp1.select_one('.num_price').text + '원')\n",
    "        print(tmp1.select_one('.tit_g').text)\n",
    "        print('-' * 30)\n",
    "        \n",
    "for tmp2 in soup.select('#topRecomKeywordWrap > div.cont_item > ul > li > .tit_rank'):\n",
    "    print(tmp2.text)\n",
    "    \n",
    "# 크롬 창 닫기\n",
    "driver.close()\n",
    "\n",
    "//*[@id=\"topRecomKeywordWrap\"]/div[2]/ul/li[1]/a/img\n",
    "\n",
    "# 1~20 까지 수집한 후 hdfs에 저장 datalab_naver_20210524.json로 저장"
   ]
  }
 ],
 "metadata": {
  "kernelspec": {
   "display_name": "Python 3",
   "language": "python",
   "name": "python3"
  },
  "language_info": {
   "codemirror_mode": {
    "name": "ipython",
    "version": 3
   },
   "file_extension": ".py",
   "mimetype": "text/x-python",
   "name": "python",
   "nbconvert_exporter": "python",
   "pygments_lexer": "ipython3",
   "version": "3.8.8"
  }
 },
 "nbformat": 4,
 "nbformat_minor": 5
}
