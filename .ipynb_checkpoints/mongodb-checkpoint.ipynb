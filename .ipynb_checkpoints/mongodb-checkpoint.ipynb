{
 "cells": [
  {
   "cell_type": "code",
   "execution_count": 21,
   "id": "48e6ead2-969c-4635-9b46-df62e88af508",
   "metadata": {},
   "outputs": [
    {
     "name": "stdout",
     "output_type": "stream",
     "text": [
      "Requirement already satisfied: pymongo in c:\\users\\82108\\anaconda3\\lib\\site-packages (3.11.4)\n"
     ]
    }
   ],
   "source": [
    "# mongodb 라이브러리 설치\n",
    "! pip install pymongo"
   ]
  },
  {
   "cell_type": "code",
   "execution_count": 15,
   "id": "0da46e55-c142-4ded-881f-5607cc661d5a",
   "metadata": {},
   "outputs": [
    {
     "name": "stdout",
     "output_type": "stream",
     "text": [
      "정상수행\n",
      "오류와 상관없이 수행됨\n"
     ]
    }
   ],
   "source": [
    "# mongodb 접속\n",
    "import pymongo\n",
    "\n",
    "try:\n",
    "    username = \"id100\"\n",
    "    password = \"pw100\"\n",
    "    host = \"1.234.5.158\"\n",
    "    port = 37017\n",
    "    dbname = \"id100\"\n",
    "\n",
    "\n",
    "\n",
    "    # mongodb 접속\n",
    "    # conn = pymongo.MongoClient(f\"mongodb://{host}:{port}\") \n",
    "    conn= pymongo.MongoClient(f'mongodb://{username}:{password}@{host}:{port}/{dbname}')\n",
    "\n",
    "    db = conn.get_database(dbname) #db선택\n",
    "    collection = db.get_collection(\"ex01_21-05-20\") #collection == table과 비슷함\n",
    "\n",
    "    # dict type\n",
    "    dic1 = {\"id\":\"pyid\", \"pw\":\"aaa\",\"name\":'abc', \"age\":33} #딕셔너리 생성\n",
    "\n",
    "    # list type\n",
    "    data1 = [{\"id\":\"aaa\", \"name\":\"가다라\", \"age\":22},\n",
    "                 {\"id\":\"aaa\", \"name\":\"다라마\", \"age\":32},\n",
    "                 {\"id\":\"aaa\", \"name\":\"다라마\", \"age\":32}]\n",
    "\n",
    "    # mongodb에 추가\n",
    "    collection.insert_one(dic1) # dic1 추가\n",
    "    collection.insert_many(data1) # data1 추가\n",
    "\n",
    "    print('정상수행')\n",
    "except Exception as e:\n",
    "    print(e)\n",
    "    print('오류발생시 수행됨')\n",
    "finally:\n",
    "    conn.close() \n",
    "    print('오류와 상관없이 수행됨')\n"
   ]
  },
  {
   "cell_type": "code",
   "execution_count": 38,
   "id": "71706b52-674b-4b2c-9830-dc9aba6ae665",
   "metadata": {},
   "outputs": [
    {
     "name": "stdout",
     "output_type": "stream",
     "text": [
      "{'id': 'pyid', 'pw': 'aaa', 'name': 'abc', 'age': 33}\n",
      "{'id': 'aaa', 'name': '가다라', 'age': 22}\n",
      "{'id': 'aaa', 'name': '다라마', 'age': 32}\n",
      "{'id': 'aaa', 'name': '다라마', 'age': 32}\n",
      "{'id': 'pyid', 'pw': 'aaa', 'name': 'abc', 'age': 33}\n",
      "{'id': 'aaa', 'name': '가다라', 'age': 22}\n",
      "{'id': 'aaa', 'name': '다라마', 'age': 32}\n",
      "{'id': 'aaa', 'name': '다라마', 'age': 32}\n",
      "{'id': 'pyid', 'pw': 'aaa', 'name': 'abc', 'age': 33}\n",
      "{'id': 'aaa', 'name': '가다라', 'age': 22}\n",
      "{'id': 'aaa', 'name': '다라마', 'age': 32}\n",
      "{'id': 'aaa', 'name': '다라마', 'age': 32}\n"
     ]
    }
   ],
   "source": [
    "# mongodb에 저장된 data 가져오기\n",
    "# db.ex1_20-05-20.find({  })\n",
    "\n",
    "data2 = collection.find({},{'_id':0}) # data 0번 위치 제외하고 가져오기\n",
    "for tmp in data2:\n",
    "    print(tmp)"
   ]
  },
  {
   "cell_type": "code",
   "execution_count": 45,
   "id": "3695a969-1807-4cdc-bbb5-d909b67f450b",
   "metadata": {},
   "outputs": [],
   "source": [
    "data = collection.find({'id':'bbb'},{'_id':0})\n",
    "for tmp in data:\n",
    "    print(tmp, type(tmp))"
   ]
  },
  {
   "cell_type": "code",
   "execution_count": 39,
   "id": "511cd7e4-f037-4e91-afe1-210efbe53165",
   "metadata": {},
   "outputs": [
    {
     "name": "stdout",
     "output_type": "stream",
     "text": [
      "{'id': 'pyid', 'pw': 'aaa', 'name': 'abc', 'age': 33} <class 'dict'>\n",
      "{'id': 'pyid', 'pw': 'aaa', 'name': 'abc', 'age': 33} <class 'dict'>\n",
      "{'id': 'pyid', 'pw': 'aaa', 'name': 'abc', 'age': 33} <class 'dict'>\n",
      "{'id': 'aaa', 'name': '다라마', 'age': 32} <class 'dict'>\n",
      "{'id': 'aaa', 'name': '다라마', 'age': 32} <class 'dict'>\n",
      "{'id': 'aaa', 'name': '다라마', 'age': 32} <class 'dict'>\n",
      "{'id': 'aaa', 'name': '다라마', 'age': 32} <class 'dict'>\n",
      "{'id': 'aaa', 'name': '다라마', 'age': 32} <class 'dict'>\n",
      "{'id': 'aaa', 'name': '다라마', 'age': 32} <class 'dict'>\n",
      "{'id': 'aaa', 'name': '가다라', 'age': 22} <class 'dict'>\n",
      "{'id': 'aaa', 'name': '가다라', 'age': 22} <class 'dict'>\n",
      "{'id': 'aaa', 'name': '가다라', 'age': 22} <class 'dict'>\n"
     ]
    }
   ],
   "source": [
    "# 정렬해서 가져오기\n",
    "data3 = collection.find({},{'_id':0}).sort([('age',pymongo.DESCENDING)]) # data 0번 위치 제외하고 가져오기\n",
    "# data3 = collection.find({},{'_id':0}).sort([('age',pymongo.DESCENDING)]).limit(3) #3개만 불러오기\n",
    "for tmp in data3:\n",
    "    print(tmp,type(tmp))"
   ]
  },
  {
   "cell_type": "code",
   "execution_count": 43,
   "id": "91465979-bdd8-4311-923f-9a96c1970e43",
   "metadata": {},
   "outputs": [],
   "source": [
    "data = collection.find({'id':'bbb'},{'_id':0})\n",
    "for tmp in data:\n",
    "    print(tmp, type(tmp))"
   ]
  },
  {
   "cell_type": "code",
   "execution_count": 41,
   "id": "dd0ee0a8-ac8a-4067-9c8e-6395db6c2c9f",
   "metadata": {},
   "outputs": [],
   "source": [
    "# age가 50보다 큰 데이터 가져오기\n",
    "data = collection.find({'age':{'$gt':50}},{'_id':0})"
   ]
  }
 ],
 "metadata": {
  "kernelspec": {
   "display_name": "Python 3",
   "language": "python",
   "name": "python3"
  },
  "language_info": {
   "codemirror_mode": {
    "name": "ipython",
    "version": 3
   },
   "file_extension": ".py",
   "mimetype": "text/x-python",
   "name": "python",
   "nbconvert_exporter": "python",
   "pygments_lexer": "ipython3",
   "version": "3.8.8"
  }
 },
 "nbformat": 4,
 "nbformat_minor": 5
}
