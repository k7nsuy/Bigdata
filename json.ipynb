{
 "cells": [
  {
   "cell_type": "code",
   "execution_count": 8,
   "id": "251c30c3-d554-46bc-bd95-ef23b1739c38",
   "metadata": {},
   "outputs": [
    {
     "name": "stdout",
     "output_type": "stream",
     "text": [
      "[{'ret': 'y1', 'data': '123'}, {'ret': 'y2', 'data': '234'}]\n",
      "{'ret': 'y1', 'data': '123'} <class 'dict'>\n",
      "{'ret': 'y2', 'data': '234'} <class 'dict'>\n"
     ]
    },
    {
     "data": {
      "text/plain": [
       "[['y1', 123], ['y2', 234]]"
      ]
     },
     "execution_count": 8,
     "metadata": {},
     "output_type": "execute_result"
    }
   ],
   "source": [
    "import requests\n",
    "import json\n",
    "\n",
    "url = \"http://ihongss.com/json/exam2.json\"\n",
    "data = requests.get(url).text\n",
    "# print(data)\n",
    "# print(type(data)) # str\n",
    "\n",
    "# str => list\n",
    "data1 = json.loads(data)\n",
    "print(data1)\n",
    "# print(type(data1))\n",
    "\n",
    "# list = [{'ret': 'y1', 'data': '123'}, {'ret': 'y2', 'data': '234'}]\n",
    "# list => [['y1',123],['y2',234]] \n",
    "data2 = []\n",
    "for i in data1:\n",
    "    print(i, type(i))\n",
    "    data2.append([i['ret'],int(i['data'])])\n",
    "data2\n",
    "\n",
    "# mongoDB는 dict형태로 넣어야 데이터가 저장되므로 형변환 하는 것에 익숙해 져야 한다."
   ]
  },
  {
   "cell_type": "code",
   "execution_count": 3,
   "id": "00ce1c87-a227-4a21-9c96-5212330f7dc4",
   "metadata": {},
   "outputs": [],
   "source": [
    "# csv파일 만들어 데이터 저장\n",
    "import csv\n",
    "\n",
    "# 저장위치 ,w ,r ,a ,utf-8 ,euc-kr\n",
    "file = open('csv/20210518_1103.csv','w',encoding='utf-8',newline='')\n",
    "wr = csv.writer(file) \n",
    "wr.writerow(['ret','data']) # column명 추가\n",
    "for i in data2:\n",
    "    wr.writerow(i)\n",
    "file.close()"
   ]
  },
  {
   "cell_type": "code",
   "execution_count": null,
   "id": "becdc612-71cd-45c3-94d4-c47287f52fb3",
   "metadata": {},
   "outputs": [],
   "source": [
    "# csv파일의 데이터 불러오기\n",
    "import csv\n",
    "\n",
    "file = open('csv/20210518_1103.csv','r',encoding='utf-8')\n",
    "rd = csv.reader(file)\n",
    "# next(rd,None) # 한줄 skip\n",
    "for i in rd:\n",
    "    print(i)\n",
    "file.close()"
   ]
  },
  {
   "cell_type": "code",
   "execution_count": 4,
   "id": "bc493596-d823-47e2-939b-2bfb59a1fb54",
   "metadata": {},
   "outputs": [
    {
     "name": "stdout",
     "output_type": "stream",
     "text": [
      "{'id': 'a', 'name': '가나다1', 'age': 61, 'height': 165.4, 'weight': 60.2}\n",
      "{'id': 'b', 'name': '가나다2', 'age': 32, 'height': 185.4, 'weight': 80.3}\n",
      "{'id': 'c', 'name': '가나다3', 'age': 13, 'height': 145.8, 'weight': 60.6}\n",
      "{'id': 'd', 'name': '가나다4', 'age': 44, 'height': 165.7, 'weight': 44.5}\n",
      "{'id': 'e', 'name': '가나다5', 'age': 85, 'height': 165.2, 'weight': 42.3}\n"
     ]
    },
    {
     "data": {
      "text/plain": [
       "[['a', '가나다1', 61, 165.4, 60.2],\n",
       " ['b', '가나다2', 32, 185.4, 80.3],\n",
       " ['c', '가나다3', 13, 145.8, 60.6],\n",
       " ['d', '가나다4', 44, 165.7, 44.5],\n",
       " ['e', '가나다5', 85, 165.2, 42.3]]"
      ]
     },
     "execution_count": 4,
     "metadata": {},
     "output_type": "execute_result"
    }
   ],
   "source": [
    "# 예제 1\n",
    "import csv\n",
    "import requests\n",
    "\n",
    "url = \"http://ihongss.com/json/exam7.json\"\n",
    "data = requests.get(url).text\n",
    "data1 = json.loads(data)\n",
    "\n",
    "a= []\n",
    "for i in data1[\"data\"]:\n",
    "    print(i)\n",
    "    a.append([i.get('id'),i.get('name'),i.get('age'),i.get('height'),i.get('weight')])\n",
    "a\n",
    "# data3 = requests.get(url).text\n",
    "\n",
    "# print(type(data3))\n",
    "\n",
    "# data4 = json.loads(data3)\n",
    "# print(type(data4))\n",
    "\n",
    "# data5 = [data4]\n",
    "# print(data5)\n",
    "# print(type(data5))\n",
    "\n",
    "# data6 = []\n",
    "# for i in data5:\n",
    "#     print(i, type(i))\n",
    "#     data6.append([i['ret'],i['data']])\n",
    "# data6\n"
   ]
  },
  {
   "cell_type": "code",
   "execution_count": 5,
   "id": "722614f6-cacd-4f27-9c14-ea8948f7864d",
   "metadata": {},
   "outputs": [],
   "source": [
    "import csv\n",
    "\n",
    "file = open('csv/20210518_ex01.csv','w',encoding='utf-8')\n",
    "\n",
    "wr = csv.writer(file)\n",
    "wr.writerow(['id','name','age','height','weight'])\n",
    "for i in a:\n",
    "    wr.writerow(i)\n",
    "file.close()"
   ]
  },
  {
   "cell_type": "code",
   "execution_count": null,
   "id": "9304e786-aa0a-4792-9977-7e980ee7c630",
   "metadata": {},
   "outputs": [],
   "source": [
    "import csv\n",
    "\n",
    "file = open('csv/20210518_ex01.csv','r',encoding='utf-8')\n",
    "\n",
    "rd = csv.reader(file)\n",
    "\n",
    "for i in rd:\n",
    "    print(i)\n",
    "file.close()"
   ]
  },
  {
   "cell_type": "code",
   "execution_count": 76,
   "id": "c93072c9-5b22-4e2c-ab37-7fe1b13f97f0",
   "metadata": {},
   "outputs": [
    {
     "name": "stdout",
     "output_type": "stream",
     "text": [
      "미션임파서블:고스트프로토콜\n",
      "마이 웨이\n",
      "셜록홈즈 : 그림자 게임\n",
      "퍼펙트 게임\n",
      "프렌즈: 몬스터섬의비밀 \n",
      "라이온 킹\n",
      "오싹한 연애\n",
      "극장판 포켓몬스터 베스트 위시「비크티니와 백의 영웅 레시라무」\n",
      "앨빈과 슈퍼밴드3\n",
      "극장판 포켓몬스터 베스트 위시 「비크티니와 흑의 영웅 제크로무」\n",
      "\n",
      "미션임파서블:고스트프로토콜\n",
      "마이 웨이\n",
      "셜록홈즈 : 그림자 게임\n",
      "퍼펙트 게임\n",
      "프렌즈: 몬스터섬의비밀 \n",
      "라이온 킹\n",
      "오싹한 연애\n",
      "극장판 포켓몬스터 베스트 위시「비크티니와 백의 영웅 레시라무」\n",
      "앨빈과 슈퍼밴드3\n",
      "극장판 포켓몬스터 베스트 위시 「비크티니와 흑의 영웅 제크로무」\n"
     ]
    }
   ],
   "source": [
    "import csv\n",
    "import requests\n",
    "\n",
    "url = \"http://ihongss.com/json/exam21.json\"\n",
    "data = requests.get(url).text\n",
    "data1 = json.loads(data)\n",
    "\n",
    "# for k,v in data1['boxOfficeResult'].items():\n",
    "#     print(v,type(v))\n",
    "# print()\n",
    "\n",
    "# dict 반복문\n",
    "for k,v in data1['boxOfficeResult'].items():\n",
    "    if(k == 'dailyBoxOfficeList'):\n",
    "        for j in v:\n",
    "            print(j['movieNm'])\n",
    "print()\n",
    "\n",
    "# list 반복문\n",
    "for i in data1['boxOfficeResult']['dailyBoxOfficeList']:\n",
    "    #  print(i,i['rnum'])\n",
    "    print(i['movieNm'])\n"
   ]
  },
  {
   "cell_type": "code",
   "execution_count": null,
   "id": "881162da-432c-4295-916f-840918ae6b7b",
   "metadata": {},
   "outputs": [],
   "source": []
  }
 ],
 "metadata": {
  "kernelspec": {
   "display_name": "Python 3",
   "language": "python",
   "name": "python3"
  },
  "language_info": {
   "codemirror_mode": {
    "name": "ipython",
    "version": 3
   },
   "file_extension": ".py",
   "mimetype": "text/x-python",
   "name": "python",
   "nbconvert_exporter": "python",
   "pygments_lexer": "ipython3",
   "version": "3.8.8"
  }
 },
 "nbformat": 4,
 "nbformat_minor": 5
}
