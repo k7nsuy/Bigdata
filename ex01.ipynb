{
 "cells": [
  {
   "cell_type": "code",
   "execution_count": 10,
   "id": "35b4cae2-d485-41b9-a109-5fcee2d76461",
   "metadata": {},
   "outputs": [
    {
     "name": "stdout",
     "output_type": "stream",
     "text": [
      "a <= 3\n"
     ]
    }
   ],
   "source": [
    "#### a = int(input('숫자 입력?'))\n",
    "if not a > 3 :\n",
    "    print('a <= 3')\n",
    "else:\n",
    "    print('a > 3')"
   ]
  },
  {
   "cell_type": "code",
   "execution_count": 1,
   "id": "b5dacdda-a8f8-42a1-a650-328163177d7d",
   "metadata": {},
   "outputs": [
    {
     "name": "stdin",
     "output_type": "stream",
     "text": [
      "정수1 3\n",
      "정수2 4\n",
      "정수3 5\n"
     ]
    },
    {
     "name": "stdout",
     "output_type": "stream",
     "text": [
      "5\n"
     ]
    }
   ],
   "source": [
    "a = int(input('정수1'))\n",
    "b = int(input('정수2'))\n",
    "c = int(input('정수3'))\n",
    "\n",
    "if a > b and a > c:\n",
    "    print(a)\n",
    "elif b > a and b > c:\n",
    "    print(b)\n",
    "else:\n",
    "    print(c)"
   ]
  },
  {
   "cell_type": "code",
   "execution_count": 39,
   "id": "8028e973-64b4-411f-971a-539391918a42",
   "metadata": {},
   "outputs": [
    {
     "name": "stdin",
     "output_type": "stream",
     "text": [
      "정수1 30\n"
     ]
    },
    {
     "name": "stdout",
     "output_type": "stream",
     "text": [
      "3 5\n"
     ]
    }
   ],
   "source": [
    "a = int(input('정수1'))\n",
    "\n",
    "if a % 15 == 0:\n",
    "    print(\"3 5\")\n",
    "elif a % 3 == 0:\n",
    "    print(3)\n",
    "elif a % 5 == 0:\n",
    "    print(5)\n",
    "else:\n",
    "    print('배수 아님')\n",
    "\n"
   ]
  },
  {
   "cell_type": "code",
   "execution_count": 40,
   "id": "414e1c0d-7fee-4f19-98bb-10d536f71ff4",
   "metadata": {},
   "outputs": [
    {
     "name": "stdin",
     "output_type": "stream",
     "text": [
      "정수1 3\n",
      "정수2 4\n",
      "정수3 5\n"
     ]
    },
    {
     "name": "stdout",
     "output_type": "stream",
     "text": [
      "4\n"
     ]
    }
   ],
   "source": [
    "a = int(input('정수1'))\n",
    "b = int(input('정수2'))\n",
    "c = int(input('정수3'))\n",
    "\n",
    "if a > b > c or c > b > a:\n",
    "    print(b)\n",
    "elif b > a > c or c > a > b:\n",
    "    print(a)\n",
    "elif a > c > b or b > c > a:\n",
    "    print(c)"
   ]
  },
  {
   "cell_type": "code",
   "execution_count": 49,
   "id": "18c031d5-edc7-40aa-b9df-ea61a8be9b3f",
   "metadata": {},
   "outputs": [
    {
     "name": "stdout",
     "output_type": "stream",
     "text": [
      "1 2 3 4 5 6 7 8 9 \n",
      "==============================\n",
      "0 1 2 3 4 5 6 7 8 9 \n",
      "==============================\n",
      "10 9 8 7 6 5 4 3 2 "
     ]
    }
   ],
   "source": [
    "# range(초기값, 조건, 증가값)\n",
    "for i in range(1,10,1): # for(int i=1; i<10; i++)\n",
    "    print(i, end=\" \")\n",
    "    \n",
    "print(end=\"\\n\")\n",
    "print(\"=\" * 30)\n",
    "\n",
    "for i in range(10):\n",
    "    print(i, end=\" \")\n",
    "    \n",
    "print(end=\"\\n\")\n",
    "print(\"=\" * 30)\n",
    "\n",
    "for i in range(10,1,-1):\n",
    "    print(i, end=\" \")"
   ]
  },
  {
   "cell_type": "code",
   "execution_count": 68,
   "id": "ea6635e4-8dbf-4d5e-876b-fa42c84d9059",
   "metadata": {},
   "outputs": [
    {
     "name": "stdin",
     "output_type": "stream",
     "text": [
      "숫자 1개 43\n"
     ]
    },
    {
     "name": "stdout",
     "output_type": "stream",
     "text": [
      "9\n"
     ]
    }
   ],
   "source": [
    "a = int(input('숫자 1개'))\n",
    "c=0\n",
    "for i in range(1,a+1,1):\n",
    "    if i%10 == 3 or i%10 ==7:\n",
    "        c=c+1\n",
    "print(c)"
   ]
  },
  {
   "cell_type": "code",
   "execution_count": 2,
   "id": "7382160e-aa02-4e77-a746-b1af1adbd465",
   "metadata": {},
   "outputs": [
    {
     "name": "stdout",
     "output_type": "stream",
     "text": [
      "<class 'list'>\n",
      "1\n",
      "21\n",
      "[1, 4, 6]\n",
      "[4, 6, 21, 3]\n",
      "1,4,6,21,3,\n",
      "\n",
      "1 1,2 4,3 6,4 21,5 3,"
     ]
    }
   ],
   "source": [
    "# 배열(list)\n",
    "a = [1,4,6,21,3]\n",
    "#  [ 0 1 2 3 ,4]\n",
    "#  [-5-4-3-2 -1]\n",
    "\n",
    "print(type(a))\n",
    "\n",
    "print(a[0])   #인덱스 0\n",
    "print(a[-2])  #인덱스 -2\n",
    "print(a[0:3]) #인덱스 0~2 까지\n",
    "print(a[1:])  #인덱스 1부터 끝\n",
    "\n",
    "# 반복문을 이용한 배열\n",
    "for i in a:\n",
    "    print(i, end=\",\")\n",
    "    \n",
    "print('\\n')\n",
    "    \n",
    "for i,j in enumerate(a): #배열위치와 값이 같이 확인\n",
    "    print(i+1,j, end=\",\")"
   ]
  }
 ],
 "metadata": {
  "kernelspec": {
   "display_name": "Python 3",
   "language": "python",
   "name": "python3"
  },
  "language_info": {
   "codemirror_mode": {
    "name": "ipython",
    "version": 3
   },
   "file_extension": ".py",
   "mimetype": "text/x-python",
   "name": "python",
   "nbconvert_exporter": "python",
   "pygments_lexer": "ipython3",
   "version": "3.8.8"
  }
 },
 "nbformat": 4,
 "nbformat_minor": 5
}
