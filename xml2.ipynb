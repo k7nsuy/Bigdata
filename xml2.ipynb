{
 "cells": [
  {
   "cell_type": "code",
   "execution_count": 2,
   "id": "eb9243da-3e40-49b2-af3b-5beaa6be1cf8",
   "metadata": {},
   "outputs": [
    {
     "data": {
      "text/plain": [
       "b'<?xml version=\"1.0\"?>\\r\\n<data>\\r\\n    <student>\\r\\n        <name>a</name>\\r\\n        <age>11</age>\\r\\n        <addr id=\"id_a\">addr1</addr>\\r\\n    </student>   \\r\\n    <student>\\r\\n        <name>b</name>\\r\\n        <age>22</age>\\r\\n        <addr id=\"id_b\">addr2</addr>\\r\\n    </student>\\r\\n</data>'"
      ]
     },
     "execution_count": 2,
     "metadata": {},
     "output_type": "execute_result"
    }
   ],
   "source": [
    "import urllib.request\n",
    "\n",
    "url = \"http://ihongss.com/resources/student.xml\"\n",
    "\n",
    "response = urllib.request.urlopen(url).read()\n",
    "response"
   ]
  },
  {
   "cell_type": "code",
   "execution_count": 5,
   "id": "b21d4519-fa9f-4e59-8ea3-632c71bd0ded",
   "metadata": {},
   "outputs": [
    {
     "name": "stdout",
     "output_type": "stream",
     "text": [
      "student a 11 id_a addr1\n",
      "student b 22 id_b addr2\n"
     ]
    },
    {
     "data": {
      "text/plain": [
       "[{'name': 'b', 'age': '22', 'id': 'id_b', 'addr': 'addr2'}]"
      ]
     },
     "execution_count": 5,
     "metadata": {},
     "output_type": "execute_result"
    }
   ],
   "source": [
    "import xml.etree.ElementTree as et\n",
    "\n",
    "\n",
    "\n",
    "root = et.fromstring(response)\n",
    "arr = []\n",
    "for tmp in root.findall('student'):\n",
    "    # 하위 name값, age값, addr의 속성값(dict), addr값\n",
    "    print(tmp.tag,tmp.find(\"name\").text,\n",
    "          tmp.find('age').text,\n",
    "          tmp.find('addr').attrib['id'],\n",
    "         tmp.findtext('addr'))\n",
    "\n",
    "tmp1 = {'name':tmp.find(\"name\").text,\n",
    "       'age':tmp.find('age').text,\n",
    "       'id':tmp.find('addr').attrib['id'],\n",
    "       'addr':tmp.findtext('addr')}\n",
    "\n",
    "arr.append(tmp1)\n",
    "arr\n",
    "        "
   ]
  },
  {
   "cell_type": "code",
   "execution_count": 29,
   "id": "1a6c3c2d-f0fb-459a-b939-9051bf1f3c88",
   "metadata": {},
   "outputs": [
    {
     "name": "stdout",
     "output_type": "stream",
     "text": [
      "<class 'dict'>\n",
      "<class 'dict'>\n",
      "<class 'dict'>\n",
      "[{'id': 'a'}, {'id': 'b'}, {'id': 'a'}] <class 'list'>\n"
     ]
    }
   ],
   "source": [
    "a = {}\n",
    "a[\"id\"] = \"a\"\n",
    "type(a)\n",
    "print(type(a))\n",
    "\n",
    "b = dict()\n",
    "b[\"id\"] = \"b\"\n",
    "type(b)\n",
    "print(type(b))\n",
    "\n",
    "c = {\"id\":\"a\"}\n",
    "type(c)\n",
    "print(type(c))\n",
    "\n",
    "d = []\n",
    "d.append(a)\n",
    "d.append(b)\n",
    "d.append(c)\n",
    "print(d,type(d))"
   ]
  },
  {
   "cell_type": "code",
   "execution_count": 6,
   "id": "b0d76864-7b42-4776-8deb-aa7e254be6ac",
   "metadata": {},
   "outputs": [
    {
     "name": "stdout",
     "output_type": "stream",
     "text": [
      "정상수행\n",
      "오류와 상관없이 수행됨\n"
     ]
    }
   ],
   "source": [
    "# 수집한 자료를 DB에 추가하기\n",
    "import pymongo\n",
    "\n",
    "try:\n",
    "    username = \"id100\"\n",
    "    password = \"pw100\"\n",
    "    host = \"1.234.5.158\"\n",
    "    port = 37017\n",
    "    dbname = \"id100\"\n",
    "    \n",
    "    # mongodb접속\n",
    "    conn = pymongo.MongoClient(f'mongodb://{username}:{password}@{host}:{port}/{dbname}')\n",
    "    db = conn.get_database(dbname)\n",
    "    collection = db.get_collection(\"ex03_arr\")  #table과 같은 개념\n",
    "    \n",
    "    # 여러개 추가하기\n",
    "    collection.insert_many(arr)\n",
    "    print('정상수행')\n",
    "except Exception as e:\n",
    "    print(e)\n",
    "    print('오류발생시 수행됨')\n",
    "finally:\n",
    "    conn.close()\n",
    "    print('오류와 상관없이 수행됨')"
   ]
  },
  {
   "cell_type": "code",
   "execution_count": null,
   "id": "39bd422e-f448-4c68-a792-a89bce2e6c95",
   "metadata": {},
   "outputs": [],
   "source": []
  }
 ],
 "metadata": {
  "kernelspec": {
   "display_name": "Python 3",
   "language": "python",
   "name": "python3"
  },
  "language_info": {
   "codemirror_mode": {
    "name": "ipython",
    "version": 3
   },
   "file_extension": ".py",
   "mimetype": "text/x-python",
   "name": "python",
   "nbconvert_exporter": "python",
   "pygments_lexer": "ipython3",
   "version": "3.8.8"
  }
 },
 "nbformat": 4,
 "nbformat_minor": 5
}
