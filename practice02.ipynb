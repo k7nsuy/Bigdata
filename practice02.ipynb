{
 "cells": [
  {
   "cell_type": "code",
   "execution_count": 28,
   "id": "68540127-7a94-4f33-b81a-d1e5846008d7",
   "metadata": {},
   "outputs": [
    {
     "name": "stdout",
     "output_type": "stream",
     "text": [
      "1 2 3 4 5 6 7 8 9 \n",
      "==============================\n",
      "0 1 2 3 4 5 6 7 8 9 \n",
      "==============================\n",
      "1 1\n",
      "2 4\n",
      "3 6\n",
      "4 21\n",
      "5 3\n"
     ]
    }
   ],
   "source": [
    "for i in range(1,10,1):\n",
    "    print(i,end=\" \")\n",
    "    \n",
    "print(end='\\n')\n",
    "print('=' * 30)\n",
    "\n",
    "for i in range(10):\n",
    "    print(i,end=' ')\n",
    "\n",
    "print(end='\\n')\n",
    "print('=' * 30)\n",
    "    \n",
    "a = [1,4,6,21,3]\n",
    "\n",
    "for i,j in enumerate(a):\n",
    "    print(i+1,j)\n"
   ]
  },
  {
   "cell_type": "code",
   "execution_count": 30,
   "id": "ff724ff1-933b-4333-b570-5653982a33fa",
   "metadata": {},
   "outputs": [
    {
     "name": "stdout",
     "output_type": "stream",
     "text": [
      "items {} \n",
      "    \n",
      "item {'id': '1'} \n",
      "      \n",
      "name {} one\n",
      "item {'id': '2'} \n",
      "      \n",
      "name {} two\n",
      "item {'id': '3'} \n",
      "      \n",
      "name {} three\n"
     ]
    }
   ],
   "source": [
    "import urllib.request\n",
    "import xml.etree.ElementTree as et\n",
    "\n",
    "url = 'http://ihongss.com/xml/exam1.xml'\n",
    "\n",
    "response = urllib.request.urlopen(url).read()\n",
    "response\n",
    "\n"
   ]
  }
 ],
 "metadata": {
  "kernelspec": {
   "display_name": "Python 3",
   "language": "python",
   "name": "python3"
  },
  "language_info": {
   "codemirror_mode": {
    "name": "ipython",
    "version": 3
   },
   "file_extension": ".py",
   "mimetype": "text/x-python",
   "name": "python",
   "nbconvert_exporter": "python",
   "pygments_lexer": "ipython3",
   "version": "3.8.8"
  }
 },
 "nbformat": 4,
 "nbformat_minor": 5
}
