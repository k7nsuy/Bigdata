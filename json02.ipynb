{
 "cells": [
  {
   "cell_type": "code",
   "execution_count": 6,
   "id": "830292a2-bdfe-4eba-9763-0a6024ab3f92",
   "metadata": {},
   "outputs": [
    {
     "name": "stdout",
     "output_type": "stream",
     "text": [
      "{'name': 'ticket class', 'type': 'number'}\n",
      "{'name': 'gender', 'type': 'multichoice', 'choices': ['male', 'female']}\n",
      "{'name': 'age', 'type': 'number'}\n",
      "{'name': 'sibl. sp.', 'type': 'number'}\n",
      "{'name': 'par. ch.', 'type': 'number'}\n",
      "{'name': 'ticket fare', 'type': 'number'}\n",
      "{'name': 'embarked', 'type': 'multichoice', 'choices': ['Cherbourg', 'Queenstwn', 'Southampt']}\n",
      "['ticket class', 'gender', 'age', 'sibl sp', 'par ch', 'ticket fare', 'embarked', 'servived']\n"
     ]
    }
   ],
   "source": [
    "import requests\n",
    "import json\n",
    "\n",
    "url=\"https://raw.githubusercontent.com/IBM/taxinomitis/master/resources/datasets/numbers/titanic.json\"\n",
    "reponse = requests.get(url).text\n",
    "# print(data, type(data))  # str\n",
    "\n",
    "data = json.loads(reponse) \n",
    "# print(data[\"metadata\"])\n",
    "\n",
    "fields = []\n",
    "for tmp in data[\"metadata\"][\"fields\"]:\n",
    "    print(tmp)\n",
    "    fields.append(tmp['name'].replace(\".\",\"\"))\n",
    "\n",
    "fields.append('servived')\n",
    "print(fields)\n",
    "\n",
    "# arr = []\n",
    "# for tmp in data[\"data\"][\"survived\"]:\n",
    "#     tmp1 = { fields[0]:int(tmp[0]), \n",
    "#              fields[1]:tmp[1],\n",
    "#              fields[2]:float(tmp[2]),\n",
    "#              fields[3]:int(tmp[3]),\n",
    "#              fields[4]:int(tmp[4]),\n",
    "#              fields[5]:float(tmp[5]),\n",
    "#              fields[6]:tmp[6],\n",
    "#              fields[7]:1 }\n",
    "#     arr.append(tmp1)\n",
    "\n",
    "    \n",
    "# for tmp in data[\"data\"][\"did_not_survive\"]:\n",
    "#     tmp1 = { fields[0]:int(tmp[0]), \n",
    "#              fields[1]:tmp[1],\n",
    "#              fields[2]:float(tmp[2]),\n",
    "#              fields[3]:int(tmp[3]),\n",
    "#              fields[4]:int(tmp[4]),\n",
    "#              fields[5]:float(tmp[5]),\n",
    "#              fields[6]:tmp[6],\n",
    "#              fields[7]:0 }\n",
    "#     arr.append(tmp1)\n",
    "    \n",
    "# for arr2 in arr:\n",
    "#     print(arr2)"
   ]
  },
  {
   "cell_type": "code",
   "execution_count": 3,
   "id": "0cf7c951-c688-4a2c-aa98-e5301e8db40d",
   "metadata": {},
   "outputs": [],
   "source": [
    "# csv파일 만들어 데이터 저장\n",
    "import csv\n",
    "\n",
    "\n",
    "# 저장위치 ,w ,r ,a ,utf-8 ,euc-kr\n",
    "file = open('csv/titanic.csv','w',encoding='utf-8')\n",
    "wr = csv.writer(file) \n",
    "wr.writerow(['ticket class','gender','age','sibl sp','par ch','ticket fare','embarked','servived']) # column명 추가\n",
    "for i in arr:\n",
    "    wr.writerow(i)\n",
    "file.close()"
   ]
  }
 ],
 "metadata": {
  "kernelspec": {
   "display_name": "Python 3",
   "language": "python",
   "name": "python3"
  },
  "language_info": {
   "codemirror_mode": {
    "name": "ipython",
    "version": 3
   },
   "file_extension": ".py",
   "mimetype": "text/x-python",
   "name": "python",
   "nbconvert_exporter": "python",
   "pygments_lexer": "ipython3",
   "version": "3.8.8"
  }
 },
 "nbformat": 4,
 "nbformat_minor": 5
}
