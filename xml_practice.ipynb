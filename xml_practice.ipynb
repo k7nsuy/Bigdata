{
 "cells": [
  {
   "cell_type": "code",
   "execution_count": null,
   "id": "af9fa043-ec1c-4863-8fa7-2d039a1e719c",
   "metadata": {},
   "outputs": [],
   "source": [
    "import urllib.request\n",
    "\n",
    "url = \"http://ihongss.com/xml/exam4.xml\"\n",
    "\n",
    "response = urllib.request.urlopen(url).read()\n",
    "response"
   ]
  },
  {
   "cell_type": "code",
   "execution_count": null,
   "id": "aa9297fc-6af2-4cb5-a70e-576352757f2e",
   "metadata": {},
   "outputs": [],
   "source": [
    "import xml.etree.ElementTree as et\n",
    "\n",
    "root = et.fromstring(response)\n",
    "for tmp in root:\n",
    "    for tmp1 in tmp:\n",
    "        print(tmp1)\n",
    "        if tmp1.find(\"genre\") !=None:\n",
    "            print(tmp1.find(\"genre\").text)\n",
    "        elif tmp1.find(\"name\") !=None:\n",
    "            print(tmp1.find(\"name\").text)"
   ]
  },
  {
   "cell_type": "code",
   "execution_count": 81,
   "id": "c5a2f8db-8c37-48be-88f3-ca911d9d0a75",
   "metadata": {},
   "outputs": [
    {
     "data": {
      "text/plain": [
       "b'<?xml version=\"1.0\" encoding=\"UTF-8\"?>\\n\\n<movies>\\n  <movie>\\n    <title>A History of Violence</title>\\n    <year>2005</year>\\n    <country>USA</country>\\n    <genre>Crime</genre>\\n    <summary>Tom Stall, a humble family man and owner of a \\n\\tpopular neighborhood restaurant, lives a quiet but \\n\\tfulfilling existence in the Midwest. One night Tom \\n\\tfoils a crime at his place of business and, to his \\n\\tchagrin, is plastered all over the news for his \\n\\theroics. Following this, mysterious people follow \\n\\tthe Stalls\\' every move, concerning Tom more than \\n\\tanyone else. As this situation is confronted, more \\n\\tlurks out over where all these occurrences have \\n\\tstemmed from compromising his marriage, family \\n\\trelationship and the main characters\\' former \\n\\trelations in the process.</summary>\\n <director>\\t    <last_name>Cronenberg</last_name>\\n\\t    <first_name>David</first_name>\\n\\t    <birth_date>1943</birth_date>\\n</director> <actor>\\n\\t    <first_name>Vigo</first_name>\\n\\t    <last_name>Mortensen</last_name>\\n\\t    <birth_date>1958</birth_date>\\n\\t    <role>Tom Stall</role>\\n</actor>\\n<actor>\\n\\t    <first_name>Maria</first_name>\\n\\t    <last_name>Bello</last_name>\\n\\t    <birth_date>1967</birth_date>\\n\\t    <role>Eddie Stall</role>\\n</actor>\\n<actor>\\n\\t    <first_name>Ed</first_name>\\n\\t    <last_name>Harris</last_name>\\n\\t    <birth_date>1950</birth_date>\\n\\t    <role>Carl Fogarty</role>\\n</actor>\\n<actor>\\n\\t    <first_name>William</first_name>\\n\\t    <last_name>Hurt</last_name>\\n\\t    <birth_date>1950</birth_date>\\n\\t    <role>Richie Cusack</role>\\n</actor>\\n </movie>\\n  <movie>\\n    <title>Heat</title>\\n    <year>1995</year>\\n    <country>USA</country>\\n    <genre>Crime</genre>\\n    <summary>Hunters and their prey--Neil and his professional \\n\\tcriminal crew hunt to score big money targets \\n\\t(banks, vaults, armored cars) and are, in turn, \\n\\thunted by Lt. Vincent Hanna and his team of cops \\n\\tin the Robbery/Homicide police division. A botched \\n\\tjob puts Hanna onto their trail while they regroup \\n\\tand try to put together one last big \\'retirement\\' \\n\\tscore. Neil and Vincent are similar in many ways, \\n\\tincluding their troubled personal lives. At a \\n\\tcrucial moment in his life, Neil disobeys the \\n\\tdictum taught to him long ago by his criminal \\n\\tmentor--\\'Never have anything in your life that you \\n\\tcan\\'t walk out on in thirty seconds flat, if you \\n\\tspot the heat coming around the corner\\'--as he \\n\\tfalls in love. Thus the stage is set for the \\n\\tsuspenseful ending.... </summary>\\n <director>\\t    <last_name>Mann</last_name>\\n\\t    <first_name>Michael</first_name>\\n\\t    <birth_date>1943</birth_date>\\n</director> <actor>\\n\\t    <first_name>Al</first_name>\\n\\t    <last_name>Pacino</last_name>\\n\\t    <birth_date>1940</birth_date>\\n\\t    <role>Lt. Vincent Hanna</role>\\n</actor>\\n<actor>\\n\\t    <first_name>Robert</first_name>\\n\\t    <last_name>De Niro</last_name>\\n\\t    <birth_date>1943</birth_date>\\n\\t    <role>Neil McCauley</role>\\n</actor>\\n<actor>\\n\\t    <first_name>Val</first_name>\\n\\t    <last_name>Kilmer</last_name>\\n\\t    <birth_date>1959</birth_date>\\n\\t    <role>Chris Shiherlis</role>\\n</actor>\\n<actor>\\n\\t    <first_name>Jon</first_name>\\n\\t    <last_name>Voight</last_name>\\n\\t    <birth_date>1938</birth_date>\\n\\t    <role>Nate</role>\\n</actor>\\n </movie>\\n  <movie>\\n    <title>Unforgiven</title>\\n    <year>1992</year>\\n    <country>USA</country>\\n    <genre>Western</genre>\\n    <summary>The town of Big Whisky is full of normal people \\n\\ttrying to lead quiet lives. Cowboys try to make a \\n\\tliving. Sheriff \\'Little Bill\\' tries to build a \\n\\thouse and keep a heavy-handed order. The town \\n\\twhores just try to get by.Then a couple of cowboys \\n\\tcut up a whore. Unsatisfied with Bill\\'s justice, \\n\\tthe prostitutes put a bounty on the cowboys. The \\n\\tbounty attracts a young gun billing himself as \\n\\t\\'The Schofield Kid\\', and aging killer William \\n\\tMunny. Munny reformed for his young wife, and has \\n\\tbeen raising crops and two children in peace. But \\n\\this wife is gone. Farm life is hard. And Munny is \\n\\tno good at it. So he calls his old partner Ned, \\n\\tsaddles his ornery nag, and rides off to kill one \\n\\tmore time, blurring the lines between heroism and \\n\\tvillainy, man and myth.</summary>\\n <director>\\t    <last_name>Eastwood</last_name>\\n\\t    <first_name>Clint</first_name>\\n\\t    <birth_date>1930</birth_date>\\n</director> <actor>\\n\\t    <first_name>Clint</first_name>\\n\\t    <last_name>Eastwood</last_name>\\n\\t    <birth_date>1930</birth_date>\\n\\t    <role>William \\'Bill\\' Munny</role>\\n</actor>\\n<actor>\\n\\t    <first_name>Gene</first_name>\\n\\t    <last_name>Hackman</last_name>\\n\\t    <birth_date>1930</birth_date>\\n\\t    <role>Little Bill Daggett</role>\\n</actor>\\n<actor>\\n\\t    <first_name>Morgan</first_name>\\n\\t    <last_name>Freeman</last_name>\\n\\t    <birth_date>1937</birth_date>\\n\\t    <role>Ned Logan</role>\\n</actor>\\n </movie>\\n  <movie>\\n    <title>Match Point</title>\\n    <year>2005</year>\\n    <country>USA</country>\\n    <genre>Crime</genre>\\n    <summary>Chris Wilton is a former tennis pro, looking to \\n\\tfind work as an instructor. He meets Tom Hewett, a \\n\\twell-off pretty boy. Tom\\'s sister Chloe falls in \\n\\tlove with Chris but Chris has his eyes on Tom\\'s \\n\\tfianc\\xc3\\xa9e, the luscious Nola. Both Chris and Nola \\n\\tknow it\\'s wrong but what could be more right than \\n\\tlove? Chris tries to juggle both women but at some \\n\\tpoint, he must choose between them...</summary>\\n <director>\\t    <last_name>Allen</last_name>\\n\\t    <first_name>Woody</first_name>\\n\\t    <birth_date>1935</birth_date>\\n</director> <actor>\\n\\t    <first_name>Jonathan</first_name>\\n\\t    <last_name>Rhys Meyers</last_name>\\n\\t    <birth_date>1977</birth_date>\\n\\t    <role>Chris Wilton</role>\\n</actor>\\n<actor>\\n\\t    <first_name>Scarlett </first_name>\\n\\t    <last_name>Johansson</last_name>\\n\\t    <birth_date>1984</birth_date>\\n\\t    <role>Nola Rice</role>\\n</actor>\\n </movie>\\n  <movie>\\n    <title>Lost in Translation</title>\\n    <year>2003</year>\\n    <country>USA</country>\\n    <genre>Drama</genre>\\n <director>\\t    <last_name>Coppola</last_name>\\n\\t    <first_name>Sofia</first_name>\\n\\t    <birth_date>1971</birth_date>\\n</director> <actor>\\n\\t    <first_name>Scarlett </first_name>\\n\\t    <last_name>Johansson</last_name>\\n\\t    <birth_date>1984</birth_date>\\n\\t    <role>Charlotte</role>\\n</actor>\\n<actor>\\n\\t    <first_name>Bill</first_name>\\n\\t    <last_name>Murray</last_name>\\n\\t    <birth_date>1950</birth_date>\\n\\t    <role>Bob Harris</role>\\n</actor>\\n </movie>\\n  <movie>\\n    <title>Marie Antoinette</title>\\n    <year>2006</year>\\n    <country>USA</country>\\n    <genre>Drama</genre>\\n    <summary>Based on Antonia Fraser\\'s book about the ill-fated \\n\\tArchduchess of Austria and later Queen of France, \\n\\t\\'Marie Antoinette\\' tells the story of the most \\n\\tmisunderstood and abused woman in history, from \\n\\ther birth in Imperial Austria to her later life in \\n\\tFrance. </summary>\\n <director>\\t    <last_name>Coppola</last_name>\\n\\t    <first_name>Sofia</first_name>\\n\\t    <birth_date>1971</birth_date>\\n</director> <actor>\\n\\t    <first_name>Kirsten</first_name>\\n\\t    <last_name>Dunst</last_name>\\n\\t    <birth_date>1982</birth_date>\\n\\t    <role>Marie Antoinette</role>\\n</actor>\\n<actor>\\n\\t    <first_name>Jason </first_name>\\n\\t    <last_name>Schwartzman</last_name>\\n\\t    <birth_date>1980</birth_date>\\n\\t    <role>Louis XVI</role>\\n</actor>\\n </movie>\\n  <movie>\\n    <title>Spider-Man</title>\\n    <year>2002</year>\\n    <country>USA</country>\\n    <genre>Action</genre>\\n    <summary>On a school field trip, Peter Parker (Maguire) is \\n\\tbitten by a genetically modified spider. He wakes \\n\\tup the next morning with incredible powers. After \\n\\twitnessing the death of his uncle (Robertson), \\n\\tParkers decides to put his new skills to use in \\n\\torder to rid the city of evil, but someone else \\n\\thas other plans. The Green Goblin (Dafoe) sees \\n\\tSpider-Man as a threat and must dispose of him. \\n\\tEven if it means the Goblin has to target Parker\\'s \\n\\tAunt (Harris) and the girl he secretly pines for \\n\\t(Dunst) </summary>\\n <director>\\t    <last_name>Raimi</last_name>\\n\\t    <first_name>Sam</first_name>\\n\\t    <birth_date>1959</birth_date>\\n</director> <actor>\\n\\t    <first_name>Kirsten</first_name>\\n\\t    <last_name>Dunst</last_name>\\n\\t    <birth_date>1982</birth_date>\\n\\t    <role>Mary Jane Watson</role>\\n</actor>\\n<actor>\\n\\t    <first_name>Tobey</first_name>\\n\\t    <last_name>Maguire</last_name>\\n\\t    <birth_date>1975</birth_date>\\n\\t    <role>Spider-Man / Peter Parker</role>\\n</actor>\\n<actor>\\n\\t    <first_name>Willem</first_name>\\n\\t    <last_name>Dafoe</last_name>\\n\\t    <birth_date>1955</birth_date>\\n\\t    <role>Green Goblin / Norman Osborn</role>\\n</actor>\\n </movie>\\n\\n</movies>\\n'"
      ]
     },
     "execution_count": 81,
     "metadata": {},
     "output_type": "execute_result"
    }
   ],
   "source": [
    "import urllib.request\n",
    "\n",
    "url = \"http://webdam.inria.fr/Jorge/files/movies.xml\"\n",
    "\n",
    "response = urllib.request.urlopen(url).read()\n",
    "response"
   ]
  },
  {
   "cell_type": "code",
   "execution_count": 85,
   "id": "fd99bcde-f12b-4ba8-afaa-a75f4432235a",
   "metadata": {},
   "outputs": [
    {
     "data": {
      "text/plain": [
       "[{'title': 'A History of Violence',\n",
       "  'year': '2005',\n",
       "  'country': 'USA',\n",
       "  'genre': 'Crime',\n",
       "  'summary': \"Tom Stall, a humble family man and owner of a \\n\\tpopular neighborhood restaurant, lives a quiet but \\n\\tfulfilling existence in the Midwest. One night Tom \\n\\tfoils a crime at his place of business and, to his \\n\\tchagrin, is plastered all over the news for his \\n\\theroics. Following this, mysterious people follow \\n\\tthe Stalls' every move, concerning Tom more than \\n\\tanyone else. As this situation is confronted, more \\n\\tlurks out over where all these occurrences have \\n\\tstemmed from compromising his marriage, family \\n\\trelationship and the main characters' former \\n\\trelations in the process.\"},\n",
       " {'title': 'Heat',\n",
       "  'year': '1995',\n",
       "  'country': 'USA',\n",
       "  'genre': 'Crime',\n",
       "  'summary': \"Hunters and their prey--Neil and his professional \\n\\tcriminal crew hunt to score big money targets \\n\\t(banks, vaults, armored cars) and are, in turn, \\n\\thunted by Lt. Vincent Hanna and his team of cops \\n\\tin the Robbery/Homicide police division. A botched \\n\\tjob puts Hanna onto their trail while they regroup \\n\\tand try to put together one last big 'retirement' \\n\\tscore. Neil and Vincent are similar in many ways, \\n\\tincluding their troubled personal lives. At a \\n\\tcrucial moment in his life, Neil disobeys the \\n\\tdictum taught to him long ago by his criminal \\n\\tmentor--'Never have anything in your life that you \\n\\tcan't walk out on in thirty seconds flat, if you \\n\\tspot the heat coming around the corner'--as he \\n\\tfalls in love. Thus the stage is set for the \\n\\tsuspenseful ending.... \"},\n",
       " {'title': 'Unforgiven',\n",
       "  'year': '1992',\n",
       "  'country': 'USA',\n",
       "  'genre': 'Western',\n",
       "  'summary': \"The town of Big Whisky is full of normal people \\n\\ttrying to lead quiet lives. Cowboys try to make a \\n\\tliving. Sheriff 'Little Bill' tries to build a \\n\\thouse and keep a heavy-handed order. The town \\n\\twhores just try to get by.Then a couple of cowboys \\n\\tcut up a whore. Unsatisfied with Bill's justice, \\n\\tthe prostitutes put a bounty on the cowboys. The \\n\\tbounty attracts a young gun billing himself as \\n\\t'The Schofield Kid', and aging killer William \\n\\tMunny. Munny reformed for his young wife, and has \\n\\tbeen raising crops and two children in peace. But \\n\\this wife is gone. Farm life is hard. And Munny is \\n\\tno good at it. So he calls his old partner Ned, \\n\\tsaddles his ornery nag, and rides off to kill one \\n\\tmore time, blurring the lines between heroism and \\n\\tvillainy, man and myth.\"},\n",
       " {'title': 'Match Point',\n",
       "  'year': '2005',\n",
       "  'country': 'USA',\n",
       "  'genre': 'Crime',\n",
       "  'summary': \"Chris Wilton is a former tennis pro, looking to \\n\\tfind work as an instructor. He meets Tom Hewett, a \\n\\twell-off pretty boy. Tom's sister Chloe falls in \\n\\tlove with Chris but Chris has his eyes on Tom's \\n\\tfiancée, the luscious Nola. Both Chris and Nola \\n\\tknow it's wrong but what could be more right than \\n\\tlove? Chris tries to juggle both women but at some \\n\\tpoint, he must choose between them...\"},\n",
       " {'title': 'Lost in Translation',\n",
       "  'year': '2003',\n",
       "  'country': 'USA',\n",
       "  'genre': 'Drama',\n",
       "  'summary': None},\n",
       " {'title': 'Marie Antoinette',\n",
       "  'year': '2006',\n",
       "  'country': 'USA',\n",
       "  'genre': 'Drama',\n",
       "  'summary': \"Based on Antonia Fraser's book about the ill-fated \\n\\tArchduchess of Austria and later Queen of France, \\n\\t'Marie Antoinette' tells the story of the most \\n\\tmisunderstood and abused woman in history, from \\n\\ther birth in Imperial Austria to her later life in \\n\\tFrance. \"},\n",
       " {'title': 'Spider-Man',\n",
       "  'year': '2002',\n",
       "  'country': 'USA',\n",
       "  'genre': 'Action',\n",
       "  'summary': \"On a school field trip, Peter Parker (Maguire) is \\n\\tbitten by a genetically modified spider. He wakes \\n\\tup the next morning with incredible powers. After \\n\\twitnessing the death of his uncle (Robertson), \\n\\tParkers decides to put his new skills to use in \\n\\torder to rid the city of evil, but someone else \\n\\thas other plans. The Green Goblin (Dafoe) sees \\n\\tSpider-Man as a threat and must dispose of him. \\n\\tEven if it means the Goblin has to target Parker's \\n\\tAunt (Harris) and the girl he secretly pines for \\n\\t(Dunst) \"}]"
      ]
     },
     "execution_count": 85,
     "metadata": {},
     "output_type": "execute_result"
    }
   ],
   "source": [
    "import xml.etree.ElementTree as et\n",
    "\n",
    "root = et.fromstring(response)\n",
    "\n",
    "arr = []\n",
    "for tmp in root:\n",
    "    data = {'title':tmp.find('title').text,\n",
    "       'year':tmp.find('year').text,\n",
    "       'country':tmp.find('country').text,\n",
    "       'genre':tmp.find('genre').text,\n",
    "       'summary':tmp.findtext('summary')}\n",
    "    arr.append(data);\n",
    "arr\n",
    "\n",
    "\n",
    "\n"
   ]
  },
  {
   "cell_type": "code",
   "execution_count": null,
   "id": "4a4f3e57-a22e-4722-8e3e-e9509dda77a1",
   "metadata": {},
   "outputs": [],
   "source": [
    "# 수집한 자료를 DB에 추가하기\n",
    "import pymongo\n",
    "\n",
    "try:\n",
    "    username = \"id100\"\n",
    "    password = \"pw100\"\n",
    "    host = \"1.234.5.158\"\n",
    "    port = 37017\n",
    "    dbname = \"id100\"\n",
    "    \n",
    "    # mongodb접속\n",
    "    conn = pymongo.MongoClient(f'mongodb://{username}:{password}@{host}:{port}/{dbname}')\n",
    "    db = conn.get_database(dbname)\n",
    "    collection = db.get_collection(\"movie_arr\")  #table과 같은 개념\n",
    "    \n",
    "    # 여러개 추가하기\n",
    "    collection.insert_many(arr)\n",
    "    print('정상수행')\n",
    "except Exception as e:\n",
    "    print(e)\n",
    "    print('오류발생시 수행됨')\n",
    "finally:\n",
    "    conn.close()\n",
    "    print('오류와 상관없이 수행됨')"
   ]
  },
  {
   "cell_type": "code",
   "execution_count": 86,
   "id": "6d1cb3bd-89cd-4dfb-b6b8-2d4f31eebf11",
   "metadata": {},
   "outputs": [
    {
     "name": "stdout",
     "output_type": "stream",
     "text": [
      "{'title': 'A History of Violence', 'year': '2005'}\n",
      "{'title': 'Heat', 'year': '1995'}\n",
      "{'title': 'Unforgiven', 'year': '1992'}\n",
      "{'title': 'Match Point', 'year': '2005'}\n",
      "{'title': 'Lost in Translation', 'year': '2003'}\n",
      "{'title': 'Marie Antoinette', 'year': '2006'}\n",
      "{'title': 'Spider-Man', 'year': '2002'}\n",
      "[{'title': 'A History of Violence', 'year': '2005', 'director_name': 'Cronenberg David', 'director_birth_date': 1943, 'actor_name_0': 'Mortensen Vigo', 'actor_birth_date_0': '1958', 'actor_role_0': 'Tom Stall', 'actor_name_1': 'Bello Maria', 'actor_birth_date_1': '1967', 'actor_role_1': 'Eddie Stall', 'actor_name_2': 'Harris Ed', 'actor_birth_date_2': '1950', 'actor_role_2': 'Carl Fogarty', 'actor_name_3': 'Hurt William', 'actor_birth_date_3': '1950', 'actor_role_3': 'Richie Cusack'}, {'title': 'Heat', 'year': '1995', 'director_name': 'Mann Michael', 'director_birth_date': 1943, 'actor_name_0': 'Pacino Al', 'actor_birth_date_0': '1940', 'actor_role_0': 'Lt. Vincent Hanna', 'actor_name_1': 'De Niro Robert', 'actor_birth_date_1': '1943', 'actor_role_1': 'Neil McCauley', 'actor_name_2': 'Kilmer Val', 'actor_birth_date_2': '1959', 'actor_role_2': 'Chris Shiherlis', 'actor_name_3': 'Voight Jon', 'actor_birth_date_3': '1938', 'actor_role_3': 'Nate'}, {'title': 'Unforgiven', 'year': '1992', 'director_name': 'Eastwood Clint', 'director_birth_date': 1930, 'actor_name_0': 'Eastwood Clint', 'actor_birth_date_0': '1930', 'actor_role_0': \"William 'Bill' Munny\", 'actor_name_1': 'Hackman Gene', 'actor_birth_date_1': '1930', 'actor_role_1': 'Little Bill Daggett', 'actor_name_2': 'Freeman Morgan', 'actor_birth_date_2': '1937', 'actor_role_2': 'Ned Logan'}, {'title': 'Match Point', 'year': '2005', 'director_name': 'Allen Woody', 'director_birth_date': 1935, 'actor_name_0': 'Rhys Meyers Jonathan', 'actor_birth_date_0': '1977', 'actor_role_0': 'Chris Wilton', 'actor_name_1': 'Johansson Scarlett ', 'actor_birth_date_1': '1984', 'actor_role_1': 'Nola Rice'}, {'title': 'Lost in Translation', 'year': '2003', 'director_name': 'Coppola Sofia', 'director_birth_date': 1971, 'actor_name_0': 'Johansson Scarlett ', 'actor_birth_date_0': '1984', 'actor_role_0': 'Charlotte', 'actor_name_1': 'Murray Bill', 'actor_birth_date_1': '1950', 'actor_role_1': 'Bob Harris'}, {'title': 'Marie Antoinette', 'year': '2006', 'director_name': 'Coppola Sofia', 'director_birth_date': 1971, 'actor_name_0': 'Dunst Kirsten', 'actor_birth_date_0': '1982', 'actor_role_0': 'Marie Antoinette', 'actor_name_1': 'Schwartzman Jason ', 'actor_birth_date_1': '1980', 'actor_role_1': 'Louis XVI'}, {'title': 'Spider-Man', 'year': '2002', 'director_name': 'Raimi Sam', 'director_birth_date': 1959, 'actor_name_0': 'Dunst Kirsten', 'actor_birth_date_0': '1982', 'actor_role_0': 'Mary Jane Watson', 'actor_name_1': 'Maguire Tobey', 'actor_birth_date_1': '1975', 'actor_role_1': 'Spider-Man / Peter Parker', 'actor_name_2': 'Dafoe Willem', 'actor_birth_date_2': '1955', 'actor_role_2': 'Green Goblin / Norman Osborn'}]\n"
     ]
    }
   ],
   "source": [
    "#리스트에 딕셔너리 타입으로 변경하기\n",
    "import urllib.request as RQ\n",
    "import xml.etree.ElementTree as ET\n",
    "\n",
    "url = \"http://webdam.inria.fr/Jorge/files/movies.xml\"\n",
    "\n",
    "# 웹에서 데이터를 받음\n",
    "response = RQ.urlopen(url).read()\n",
    "\n",
    "# 타입 변경 (bytes -> xml.etree.ElementTree.Element)\n",
    "root = ET.fromstring(response)\n",
    "\n",
    "# [{   },{    },{    }]\n",
    "arr = []\n",
    "for tmp in root:\n",
    "    #딕셔너리 생성\n",
    "    data = {\"title\" : tmp.find(\"title\").text, \"year\" : tmp.findtext(\"year\") }\n",
    "    \n",
    "\n",
    "    for tmp1 in tmp.findall('director'):\n",
    "        print(data)\n",
    "        #딕셔너리에 키가 다른 값 추가\n",
    "        data['director_name'] = tmp1.find(\"last_name\").text + \" \" + tmp1.find(\"first_name\").text\n",
    "        data['director_birth_date'] = int(tmp1.findtext(\"birth_date\"))\n",
    "    \n",
    "    # enumerate => 반복시  idx번호, tmp1값\n",
    "    for idx, tmp1 in enumerate(tmp.findall('actor')):\n",
    "        data['actor_name_' + str(idx)] = tmp1.find(\"last_name\").text + \" \" + tmp1.find(\"first_name\").text\n",
    "        data['actor_birth_date_' + str(idx)] = tmp1.find(\"birth_date\").text\n",
    "        data['actor_role_' + str(idx)] = tmp1.find(\"role\").text\n",
    "    \n",
    "    arr.append(data);\n",
    "\n",
    "print(arr)"
   ]
  }
 ],
 "metadata": {
  "kernelspec": {
   "display_name": "Python 3",
   "language": "python",
   "name": "python3"
  },
  "language_info": {
   "codemirror_mode": {
    "name": "ipython",
    "version": 3
   },
   "file_extension": ".py",
   "mimetype": "text/x-python",
   "name": "python",
   "nbconvert_exporter": "python",
   "pygments_lexer": "ipython3",
   "version": "3.8.8"
  }
 },
 "nbformat": 4,
 "nbformat_minor": 5
}
