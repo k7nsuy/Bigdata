{
 "cells": [
  {
   "cell_type": "code",
   "execution_count": null,
   "id": "1fd9ec84-f14e-40bb-9302-68024ccdcf59",
   "metadata": {},
   "outputs": [],
   "source": [
    "a = [1, 3, 4, 5] # 리스트\n",
    "b = {\"name\":\"가나다\" , \"age\":34} # 딕셔너리 = JSON HashMap<Key,Value>\n",
    "c = (1, 2, 4, 7, 9) # 튜플 = 값을 변경할 수 없음\n",
    "d = {1, 2, 2, 3} # 셋(집합) 중복제거\n",
    "\n",
    "print(a)\n",
    "print(b[\"name\"])\n",
    "print(c)\n",
    "print(d)\n",
    "print(type(d))"
   ]
  },
  {
   "cell_type": "code",
   "execution_count": null,
   "id": "edd0d0b6-69b6-4823-8afe-e91b469dccba",
   "metadata": {},
   "outputs": [],
   "source": [
    "a = [ (1, 2, 3), (4, 5, 6), (7, 8, 9), (10, 11, 12) ]\n",
    "print(type(a))\n",
    "print(type(a[2]))"
   ]
  },
  {
   "cell_type": "code",
   "execution_count": null,
   "id": "bf079032-d11a-4baa-b3b4-e837a3499d22",
   "metadata": {},
   "outputs": [],
   "source": [
    "a = [ {\"name\":\"가\",\"age\":4}, {\"name\":\"가\",\"age\":41} ]\n",
    "print(type(a))\n",
    "print(type(a[1]))\n",
    "print(a[1][\"age\"]) #41"
   ]
  },
  {
   "cell_type": "code",
   "execution_count": null,
   "id": "3c6b29bb-c9c4-46d7-ac8d-8c2b5b836ee2",
   "metadata": {},
   "outputs": [],
   "source": [
    "a = {\"data\":\"abc\",\"member\":[ {\"name\":\"가\",\"age\":4},{\"name\":\"가1\",\"age\":41} ]}\n",
    "b = a[\"member\"]\n",
    "c = b[0]\n",
    "# 이름 \"가\" 와 \"가1\"을 출력하세요.\n",
    "print(type(a)) # dict\n",
    "print(type(b)) # list\n",
    "print(a[\"data\"])\n",
    "print(a[\"member\"])\n",
    "print(a[\"member\"][0][\"name\"]) # 리스트\n",
    "print(b[0][\"age\"])\n",
    "print(c[\"name\"])"
   ]
  }
 ],
 "metadata": {
  "kernelspec": {
   "display_name": "Python 3",
   "language": "python",
   "name": "python3"
  },
  "language_info": {
   "codemirror_mode": {
    "name": "ipython",
    "version": 3
   },
   "file_extension": ".py",
   "mimetype": "text/x-python",
   "name": "python",
   "nbconvert_exporter": "python",
   "pygments_lexer": "ipython3",
   "version": "3.8.8"
  }
 },
 "nbformat": 4,
 "nbformat_minor": 5
}
