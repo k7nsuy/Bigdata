{
 "cells": [
  {
   "cell_type": "code",
   "execution_count": 2,
   "id": "c60902a2-7893-4af2-b692-448fee99b4fe",
   "metadata": {},
   "outputs": [
    {
     "name": "stdout",
     "output_type": "stream",
     "text": [
      "Requirement already satisfied: cx_oracle in c:\\users\\82108\\anaconda3\\lib\\site-packages (8.1.0)\n"
     ]
    }
   ],
   "source": [
    " # 1.오라클 연동 라이브러리 설치하기\n",
    "! pip install cx_oracle"
   ]
  },
  {
   "cell_type": "code",
   "execution_count": null,
   "id": "8e1a6f35-79d2-4bc8-9fbb-f71d413b5063",
   "metadata": {},
   "outputs": [],
   "source": [
    "# 2.오라클 연동을 위한 instant oracle 다운로드\n",
    "# https://www.oracle.com/kr/database/technologies/instant-client/downloads.html"
   ]
  },
  {
   "cell_type": "code",
   "execution_count": 1,
   "id": "58211b74-3559-4880-9aaa-905820356c1a",
   "metadata": {
    "tags": []
   },
   "outputs": [
    {
     "data": {
      "text/plain": [
       "'C:\\\\instantclient_19_10;C:\\\\Users\\\\82108\\\\anaconda3;C:\\\\Users\\\\82108\\\\anaconda3\\\\Library\\\\mingw-w64\\\\bin;C:\\\\Users\\\\82108\\\\anaconda3\\\\Library\\\\usr\\\\bin;C:\\\\Users\\\\82108\\\\anaconda3\\\\Library\\\\bin;C:\\\\Users\\\\82108\\\\anaconda3\\\\Scripts;C:\\\\Users\\\\82108\\\\anaconda3\\\\bin;C:\\\\Users\\\\82108\\\\anaconda3\\\\condabin;C:\\\\oraclexe\\\\app\\\\oracle\\\\product\\\\11.2.0\\\\server\\\\bin;C:\\\\Program Files (x86)\\\\Intel\\\\iCLS Client;C:\\\\Program Files\\\\Intel\\\\iCLS Client;C:\\\\windows\\\\system32;C:\\\\windows;C:\\\\windows\\\\System32\\\\Wbem;C:\\\\windows\\\\System32\\\\WindowsPowerShell\\\\v1.0;C:\\\\Program Files (x86)\\\\Intel\\\\Intel(R) Management Engine Components\\\\DAL;C:\\\\Program Files\\\\Intel\\\\Intel(R) Management Engine Components\\\\DAL;C:\\\\Program Files (x86)\\\\Intel\\\\Intel(R) Management Engine Components\\\\IPT;C:\\\\Program Files\\\\Intel\\\\Intel(R) Management Engine Components\\\\IPT;C:\\\\Program Files (x86)\\\\NVIDIA Corporation\\\\PhysX\\\\Common;C:\\\\Program Files\\\\Intel\\\\WiFi\\\\bin;C:\\\\Program Files\\\\Common Files\\\\Intel\\\\WirelessCommon;C:\\\\WINDOWS\\\\system32;C:\\\\WINDOWS;C:\\\\WINDOWS\\\\System32\\\\Wbem;C:\\\\WINDOWS\\\\System32\\\\WindowsPowerShell\\\\v1.0;C:\\\\WINDOWS\\\\System32\\\\OpenSSH;C:\\\\Program Files\\\\OpenJDK\\\\openjdk-8u282-b08\\\\bin;C:\\\\oraclexe\\\\app\\\\oracle;C:\\\\Program Files\\\\nodejs;C:\\\\Program Files\\\\Git\\\\cmd;C:\\\\ProgramData\\\\chocolatey\\\\bin;C:\\\\ProgramData\\\\chocolatey\\\\lib\\\\maven\\\\apache-maven-3.6.3\\\\bin;C:\\\\HashiCorp\\\\Vagrant\\\\bin;C:\\\\Users\\\\82108\\\\anaconda3;C:\\\\Users\\\\82108\\\\anaconda3\\\\Library\\\\mingw-w64\\\\bin;C:\\\\Users\\\\82108\\\\anaconda3\\\\Library\\\\usr\\\\bin;C:\\\\Users\\\\82108\\\\anaconda3\\\\Library\\\\bin;C:\\\\Users\\\\82108\\\\anaconda3\\\\Scripts;C:\\\\Program Files\\\\MySQL\\\\MySQL Shell 8.0\\\\bin;C:\\\\Users\\\\82108\\\\AppData\\\\Local\\\\Microsoft\\\\WindowsApps;C:\\\\Program Files\\\\Bandizip;C:\\\\Users\\\\82108\\\\AppData\\\\Local\\\\Programs\\\\Microsoft VS Code\\\\bin;C:\\\\Users\\\\82108\\\\AppData\\\\Local\\\\GitHubDesktop\\\\bin;C:\\\\Users\\\\82108\\\\AppData\\\\Roaming\\\\npm'"
      ]
     },
     "execution_count": 1,
     "metadata": {},
     "output_type": "execute_result"
    }
   ],
   "source": [
    "# 3.환경변수 PATH경로 검색\n",
    "import os\n",
    "# path = 'C:\\\\instantclient_19_10' #윈도우 방식의 구조\n",
    "# path = 'C:/instantclient_19_10'  #리눅스 계열의 방식\n",
    "path = r'C:\\instantclient_19_10' #raw로 하면 \\\n",
    "\n",
    "os.environ[\"PATH\"] = path + \";\" + os.environ[\"PATH\"]\n",
    "os.environ[\"PATH\"]"
   ]
  },
  {
   "cell_type": "code",
   "execution_count": 32,
   "id": "34cbc602-fd39-4039-9294-b9a074e5ed33",
   "metadata": {},
   "outputs": [
    {
     "data": {
      "text/plain": [
       "<cx_Oracle.Connection to id117@1.234.5.158:11521/xe>"
      ]
     },
     "execution_count": 32,
     "metadata": {},
     "output_type": "execute_result"
    }
   ],
   "source": [
    "# 4.라이브러리 추가한 후 ora로 변경\n",
    "import cx_Oracle as ora\n",
    "# 아이디/암호@서버주소:포트번호/SID\n",
    "conn = ora.connect('id117/pw117@1.234.5.158:11521/xe')\n",
    "conn"
   ]
  },
  {
   "cell_type": "code",
   "execution_count": 33,
   "id": "2fed1804-0ae7-4d61-ba77-7b14903d762b",
   "metadata": {},
   "outputs": [
    {
     "data": {
      "text/plain": [
       "18"
      ]
     },
     "execution_count": 33,
     "metadata": {},
     "output_type": "execute_result"
    }
   ],
   "source": [
    "# 5. sql문을 이용해서 데이터 불러오기\n",
    "cursor = conn.cursor()\n",
    "cursor.execute(\"SELECT * FROM BOARDTBL\")\n",
    "rows = cursor.fetchall();\n",
    "\n",
    "rows\n",
    "\n",
    "len(rows)\n",
    "\n",
    "# print(type(rows))\n",
    "# print(len(rows))\n",
    "\n",
    "# tuple a = (1,2,3)\n",
    "# list a = [1,2,3]\n",
    "# print(rows[0])\n",
    "# print(rows[0][0])"
   ]
  },
  {
   "cell_type": "code",
   "execution_count": 7,
   "id": "e9916bb9-3064-4973-92cb-b75d314db831",
   "metadata": {},
   "outputs": [
    {
     "name": "stdout",
     "output_type": "stream",
     "text": [
      "20 asd <p>asd</p>\n",
      "21 asd <p>bbbb</p>\n",
      "22 asd <p>ccc</p>\n",
      "26 FFF <p>fff</p>\n",
      "29 vvv <p>vvv</p>\n",
      "1 ASDff <p>ASDasdfff</p>\n",
      "2 99 <p>99</p>\n",
      "3 88 <p>88</p>\n",
      "4 ggg <p>ggg</p>\n",
      "27 111 <p>111</p>\n",
      "30 lll <p>lll</p>\n",
      "5 000 <p>000</p>\n",
      "10 ASDffff <p>ASD</p>\n",
      "11 12 <p>12</p>\n",
      "23 asd <p>ffff</p>\n",
      "24 asd <p>gggg</p>\n",
      "25 asd <p>ffff</p>\n"
     ]
    }
   ],
   "source": [
    "for i in rows: # 리스트\n",
    "    print(i[0], i[1], i[2]) # i[0] 튜플"
   ]
  },
  {
   "cell_type": "code",
   "execution_count": 34,
   "id": "985183d7-dd9e-492f-ad2f-ff919f1ebbb6",
   "metadata": {},
   "outputs": [],
   "source": [
    "# INSERT, UPDATE, DELETE 수행\n",
    "cursor = conn.cursor()\n",
    "sql = \"\"\"\n",
    "        INSERT INTO BOARDTBL(BRDNO, BRDTITLE, BRDCONTENT, BRDHIT, BRDWRITER, BRDDATE)\n",
    "        VALUES( :no, :ti, :co, :hi, :wr, CURRENT_DATE)\n",
    "      \"\"\"\n",
    "# VALUES( :1, :2, :3, :4, :5, CURRENT_DATE)\n",
    "# arr = [46,'제목','내용',1,'작성자']\n",
    "# cursor.execute(sql,arr)\n",
    "cursor.execute(sql,no=47,ti='제목1',co='내용1',hi=3,wr='작성자1')\n",
    "conn.commit()"
   ]
  },
  {
   "cell_type": "code",
   "execution_count": 38,
   "id": "354fc87b-f069-4943-8635-8976e3932912",
   "metadata": {},
   "outputs": [],
   "source": [
    "# UPDATE 문\n",
    "cursor = conn.cursor()\n",
    "sql = \"\"\"\n",
    "        UPDATE BOARDTBL SET BRDTITLE='title1' WHERE BRDNO=42\n",
    "      \"\"\"\n",
    "cursor.execute(sql)\n",
    "conn.commit()"
   ]
  },
  {
   "cell_type": "code",
   "execution_count": 25,
   "id": "68499105-b42b-48d9-a966-3e33083c2755",
   "metadata": {},
   "outputs": [],
   "source": [
    "# DELETE 문\n",
    "cursor = conn.cursor()\n",
    "sql = \"\"\"\n",
    "        DELETE FROM BOARDTBL WHERE BRDNO=47\n",
    "      \"\"\"\n",
    "cursor.execute(sql)\n",
    "conn.commit()"
   ]
  }
 ],
 "metadata": {
  "kernelspec": {
   "display_name": "Python 3",
   "language": "python",
   "name": "python3"
  },
  "language_info": {
   "codemirror_mode": {
    "name": "ipython",
    "version": 3
   },
   "file_extension": ".py",
   "mimetype": "text/x-python",
   "name": "python",
   "nbconvert_exporter": "python",
   "pygments_lexer": "ipython3",
   "version": "3.8.8"
  }
 },
 "nbformat": 4,
 "nbformat_minor": 5
}
